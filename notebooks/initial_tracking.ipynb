{
 "cells": [
  {
   "cell_type": "code",
   "execution_count": 1,
   "id": "93c345d5",
   "metadata": {},
   "outputs": [],
   "source": [
    "import pandas as pd\n",
    "from sklearn.feature_extraction import DictVectorizer\n",
    "from sklearn.linear_model import Lasso\n",
    "from sklearn.metrics import root_mean_squared_error\n",
    "\n",
    "def read_dataframe(path):\n",
    "    df = pd.read_parquet(path)\n",
    "    df[\"duration\"] = (df.lpep_dropoff_datetime - df.lpep_pickup_datetime).dt.total_seconds() / 60\n",
    "    df = df[(df.duration >= 1) & (df.duration <= 60)]\n",
    "    df[[\"PULocationID\", \"DOLocationID\"]] = df[[\"PULocationID\", \"DOLocationID\"]].astype(str)\n",
    "    return df\n",
    "\n",
    "df_train = read_dataframe(\"../data/green_tripdata_2025-01.parquet\")\n",
    "df_val = read_dataframe(\"../data/green_tripdata_2025-02.parquet\")\n",
    "\n",
    "df_train[\"PU_DO\"] = df_train[\"PULocationID\"] + \"_\" + df_train[\"DOLocationID\"]\n",
    "df_val[\"PU_DO\"] = df_val[\"PULocationID\"] + \"_\" + df_val[\"DOLocationID\"]\n",
    "\n",
    "categorical = [\"PU_DO\"]\n",
    "numerical = [\"trip_distance\"]\n",
    "\n",
    "dv = DictVectorizer()\n",
    "X_train = dv.fit_transform(df_train[categorical + numerical].to_dict(orient=\"records\"))\n",
    "X_val = dv.transform(df_val[categorical + numerical].to_dict(orient=\"records\"))\n",
    "\n",
    "y_train = df_train[\"duration\"].values\n",
    "y_val = df_val[\"duration\"].values"
   ]
  },
  {
   "cell_type": "code",
   "execution_count": 2,
   "id": "25448263",
   "metadata": {},
   "outputs": [
    {
     "data": {
      "text/html": [
       "<div>\n",
       "<style scoped>\n",
       "    .dataframe tbody tr th:only-of-type {\n",
       "        vertical-align: middle;\n",
       "    }\n",
       "\n",
       "    .dataframe tbody tr th {\n",
       "        vertical-align: top;\n",
       "    }\n",
       "\n",
       "    .dataframe thead th {\n",
       "        text-align: right;\n",
       "    }\n",
       "</style>\n",
       "<table border=\"1\" class=\"dataframe\">\n",
       "  <thead>\n",
       "    <tr style=\"text-align: right;\">\n",
       "      <th></th>\n",
       "      <th>VendorID</th>\n",
       "      <th>lpep_pickup_datetime</th>\n",
       "      <th>lpep_dropoff_datetime</th>\n",
       "      <th>store_and_fwd_flag</th>\n",
       "      <th>RatecodeID</th>\n",
       "      <th>PULocationID</th>\n",
       "      <th>DOLocationID</th>\n",
       "      <th>passenger_count</th>\n",
       "      <th>trip_distance</th>\n",
       "      <th>fare_amount</th>\n",
       "      <th>...</th>\n",
       "      <th>tolls_amount</th>\n",
       "      <th>ehail_fee</th>\n",
       "      <th>improvement_surcharge</th>\n",
       "      <th>total_amount</th>\n",
       "      <th>payment_type</th>\n",
       "      <th>trip_type</th>\n",
       "      <th>congestion_surcharge</th>\n",
       "      <th>cbd_congestion_fee</th>\n",
       "      <th>duration</th>\n",
       "      <th>PU_DO</th>\n",
       "    </tr>\n",
       "  </thead>\n",
       "  <tbody>\n",
       "    <tr>\n",
       "      <th>0</th>\n",
       "      <td>2</td>\n",
       "      <td>2025-01-01 00:03:01</td>\n",
       "      <td>2025-01-01 00:17:12</td>\n",
       "      <td>N</td>\n",
       "      <td>1.0</td>\n",
       "      <td>75</td>\n",
       "      <td>235</td>\n",
       "      <td>1.0</td>\n",
       "      <td>5.93</td>\n",
       "      <td>24.70</td>\n",
       "      <td>...</td>\n",
       "      <td>0.00</td>\n",
       "      <td>NaN</td>\n",
       "      <td>1.0</td>\n",
       "      <td>34.00</td>\n",
       "      <td>1.0</td>\n",
       "      <td>1.0</td>\n",
       "      <td>0.00</td>\n",
       "      <td>0.0</td>\n",
       "      <td>14.183333</td>\n",
       "      <td>75_235</td>\n",
       "    </tr>\n",
       "    <tr>\n",
       "      <th>1</th>\n",
       "      <td>2</td>\n",
       "      <td>2025-01-01 00:19:59</td>\n",
       "      <td>2025-01-01 00:25:52</td>\n",
       "      <td>N</td>\n",
       "      <td>1.0</td>\n",
       "      <td>166</td>\n",
       "      <td>75</td>\n",
       "      <td>1.0</td>\n",
       "      <td>1.32</td>\n",
       "      <td>8.60</td>\n",
       "      <td>...</td>\n",
       "      <td>0.00</td>\n",
       "      <td>NaN</td>\n",
       "      <td>1.0</td>\n",
       "      <td>11.10</td>\n",
       "      <td>2.0</td>\n",
       "      <td>1.0</td>\n",
       "      <td>0.00</td>\n",
       "      <td>0.0</td>\n",
       "      <td>5.883333</td>\n",
       "      <td>166_75</td>\n",
       "    </tr>\n",
       "    <tr>\n",
       "      <th>2</th>\n",
       "      <td>2</td>\n",
       "      <td>2025-01-01 00:05:29</td>\n",
       "      <td>2025-01-01 00:07:21</td>\n",
       "      <td>N</td>\n",
       "      <td>5.0</td>\n",
       "      <td>171</td>\n",
       "      <td>73</td>\n",
       "      <td>1.0</td>\n",
       "      <td>0.41</td>\n",
       "      <td>25.55</td>\n",
       "      <td>...</td>\n",
       "      <td>0.00</td>\n",
       "      <td>NaN</td>\n",
       "      <td>1.0</td>\n",
       "      <td>26.55</td>\n",
       "      <td>2.0</td>\n",
       "      <td>2.0</td>\n",
       "      <td>0.00</td>\n",
       "      <td>0.0</td>\n",
       "      <td>1.866667</td>\n",
       "      <td>171_73</td>\n",
       "    </tr>\n",
       "    <tr>\n",
       "      <th>3</th>\n",
       "      <td>2</td>\n",
       "      <td>2025-01-01 00:52:24</td>\n",
       "      <td>2025-01-01 01:07:52</td>\n",
       "      <td>N</td>\n",
       "      <td>1.0</td>\n",
       "      <td>74</td>\n",
       "      <td>223</td>\n",
       "      <td>1.0</td>\n",
       "      <td>4.12</td>\n",
       "      <td>21.20</td>\n",
       "      <td>...</td>\n",
       "      <td>6.94</td>\n",
       "      <td>NaN</td>\n",
       "      <td>1.0</td>\n",
       "      <td>36.77</td>\n",
       "      <td>1.0</td>\n",
       "      <td>1.0</td>\n",
       "      <td>0.00</td>\n",
       "      <td>0.0</td>\n",
       "      <td>15.466667</td>\n",
       "      <td>74_223</td>\n",
       "    </tr>\n",
       "    <tr>\n",
       "      <th>4</th>\n",
       "      <td>2</td>\n",
       "      <td>2025-01-01 00:25:05</td>\n",
       "      <td>2025-01-01 01:01:10</td>\n",
       "      <td>N</td>\n",
       "      <td>1.0</td>\n",
       "      <td>66</td>\n",
       "      <td>158</td>\n",
       "      <td>1.0</td>\n",
       "      <td>4.71</td>\n",
       "      <td>33.80</td>\n",
       "      <td>...</td>\n",
       "      <td>0.00</td>\n",
       "      <td>NaN</td>\n",
       "      <td>1.0</td>\n",
       "      <td>46.86</td>\n",
       "      <td>1.0</td>\n",
       "      <td>1.0</td>\n",
       "      <td>2.75</td>\n",
       "      <td>0.0</td>\n",
       "      <td>36.083333</td>\n",
       "      <td>66_158</td>\n",
       "    </tr>\n",
       "    <tr>\n",
       "      <th>...</th>\n",
       "      <td>...</td>\n",
       "      <td>...</td>\n",
       "      <td>...</td>\n",
       "      <td>...</td>\n",
       "      <td>...</td>\n",
       "      <td>...</td>\n",
       "      <td>...</td>\n",
       "      <td>...</td>\n",
       "      <td>...</td>\n",
       "      <td>...</td>\n",
       "      <td>...</td>\n",
       "      <td>...</td>\n",
       "      <td>...</td>\n",
       "      <td>...</td>\n",
       "      <td>...</td>\n",
       "      <td>...</td>\n",
       "      <td>...</td>\n",
       "      <td>...</td>\n",
       "      <td>...</td>\n",
       "      <td>...</td>\n",
       "      <td>...</td>\n",
       "    </tr>\n",
       "    <tr>\n",
       "      <th>48321</th>\n",
       "      <td>2</td>\n",
       "      <td>2025-01-31 19:36:00</td>\n",
       "      <td>2025-01-31 20:05:00</td>\n",
       "      <td>None</td>\n",
       "      <td>NaN</td>\n",
       "      <td>179</td>\n",
       "      <td>132</td>\n",
       "      <td>NaN</td>\n",
       "      <td>13.99</td>\n",
       "      <td>55.61</td>\n",
       "      <td>...</td>\n",
       "      <td>0.00</td>\n",
       "      <td>NaN</td>\n",
       "      <td>1.0</td>\n",
       "      <td>68.53</td>\n",
       "      <td>NaN</td>\n",
       "      <td>NaN</td>\n",
       "      <td>NaN</td>\n",
       "      <td>NaN</td>\n",
       "      <td>29.000000</td>\n",
       "      <td>179_132</td>\n",
       "    </tr>\n",
       "    <tr>\n",
       "      <th>48322</th>\n",
       "      <td>2</td>\n",
       "      <td>2025-01-31 20:33:00</td>\n",
       "      <td>2025-01-31 20:41:00</td>\n",
       "      <td>None</td>\n",
       "      <td>NaN</td>\n",
       "      <td>166</td>\n",
       "      <td>75</td>\n",
       "      <td>NaN</td>\n",
       "      <td>1.51</td>\n",
       "      <td>13.58</td>\n",
       "      <td>...</td>\n",
       "      <td>0.00</td>\n",
       "      <td>NaN</td>\n",
       "      <td>1.0</td>\n",
       "      <td>17.34</td>\n",
       "      <td>NaN</td>\n",
       "      <td>NaN</td>\n",
       "      <td>NaN</td>\n",
       "      <td>NaN</td>\n",
       "      <td>8.000000</td>\n",
       "      <td>166_75</td>\n",
       "    </tr>\n",
       "    <tr>\n",
       "      <th>48323</th>\n",
       "      <td>2</td>\n",
       "      <td>2025-01-31 21:09:00</td>\n",
       "      <td>2025-01-31 21:30:00</td>\n",
       "      <td>None</td>\n",
       "      <td>NaN</td>\n",
       "      <td>41</td>\n",
       "      <td>42</td>\n",
       "      <td>NaN</td>\n",
       "      <td>2.90</td>\n",
       "      <td>30.89</td>\n",
       "      <td>...</td>\n",
       "      <td>0.00</td>\n",
       "      <td>NaN</td>\n",
       "      <td>1.0</td>\n",
       "      <td>32.39</td>\n",
       "      <td>NaN</td>\n",
       "      <td>NaN</td>\n",
       "      <td>NaN</td>\n",
       "      <td>NaN</td>\n",
       "      <td>21.000000</td>\n",
       "      <td>41_42</td>\n",
       "    </tr>\n",
       "    <tr>\n",
       "      <th>48324</th>\n",
       "      <td>2</td>\n",
       "      <td>2025-01-31 22:22:00</td>\n",
       "      <td>2025-01-31 22:25:00</td>\n",
       "      <td>None</td>\n",
       "      <td>NaN</td>\n",
       "      <td>75</td>\n",
       "      <td>43</td>\n",
       "      <td>NaN</td>\n",
       "      <td>0.34</td>\n",
       "      <td>14.78</td>\n",
       "      <td>...</td>\n",
       "      <td>0.00</td>\n",
       "      <td>NaN</td>\n",
       "      <td>1.0</td>\n",
       "      <td>18.72</td>\n",
       "      <td>NaN</td>\n",
       "      <td>NaN</td>\n",
       "      <td>NaN</td>\n",
       "      <td>NaN</td>\n",
       "      <td>3.000000</td>\n",
       "      <td>75_43</td>\n",
       "    </tr>\n",
       "    <tr>\n",
       "      <th>48325</th>\n",
       "      <td>2</td>\n",
       "      <td>2025-01-31 22:15:00</td>\n",
       "      <td>2025-01-31 22:22:00</td>\n",
       "      <td>None</td>\n",
       "      <td>NaN</td>\n",
       "      <td>42</td>\n",
       "      <td>194</td>\n",
       "      <td>NaN</td>\n",
       "      <td>1.37</td>\n",
       "      <td>66.67</td>\n",
       "      <td>...</td>\n",
       "      <td>6.94</td>\n",
       "      <td>NaN</td>\n",
       "      <td>1.0</td>\n",
       "      <td>85.11</td>\n",
       "      <td>NaN</td>\n",
       "      <td>NaN</td>\n",
       "      <td>NaN</td>\n",
       "      <td>NaN</td>\n",
       "      <td>7.000000</td>\n",
       "      <td>42_194</td>\n",
       "    </tr>\n",
       "  </tbody>\n",
       "</table>\n",
       "<p>46307 rows × 23 columns</p>\n",
       "</div>"
      ],
      "text/plain": [
       "       VendorID lpep_pickup_datetime lpep_dropoff_datetime store_and_fwd_flag  \\\n",
       "0             2  2025-01-01 00:03:01   2025-01-01 00:17:12                  N   \n",
       "1             2  2025-01-01 00:19:59   2025-01-01 00:25:52                  N   \n",
       "2             2  2025-01-01 00:05:29   2025-01-01 00:07:21                  N   \n",
       "3             2  2025-01-01 00:52:24   2025-01-01 01:07:52                  N   \n",
       "4             2  2025-01-01 00:25:05   2025-01-01 01:01:10                  N   \n",
       "...         ...                  ...                   ...                ...   \n",
       "48321         2  2025-01-31 19:36:00   2025-01-31 20:05:00               None   \n",
       "48322         2  2025-01-31 20:33:00   2025-01-31 20:41:00               None   \n",
       "48323         2  2025-01-31 21:09:00   2025-01-31 21:30:00               None   \n",
       "48324         2  2025-01-31 22:22:00   2025-01-31 22:25:00               None   \n",
       "48325         2  2025-01-31 22:15:00   2025-01-31 22:22:00               None   \n",
       "\n",
       "       RatecodeID PULocationID DOLocationID  passenger_count  trip_distance  \\\n",
       "0             1.0           75          235              1.0           5.93   \n",
       "1             1.0          166           75              1.0           1.32   \n",
       "2             5.0          171           73              1.0           0.41   \n",
       "3             1.0           74          223              1.0           4.12   \n",
       "4             1.0           66          158              1.0           4.71   \n",
       "...           ...          ...          ...              ...            ...   \n",
       "48321         NaN          179          132              NaN          13.99   \n",
       "48322         NaN          166           75              NaN           1.51   \n",
       "48323         NaN           41           42              NaN           2.90   \n",
       "48324         NaN           75           43              NaN           0.34   \n",
       "48325         NaN           42          194              NaN           1.37   \n",
       "\n",
       "       fare_amount  ...  tolls_amount  ehail_fee  improvement_surcharge  \\\n",
       "0            24.70  ...          0.00        NaN                    1.0   \n",
       "1             8.60  ...          0.00        NaN                    1.0   \n",
       "2            25.55  ...          0.00        NaN                    1.0   \n",
       "3            21.20  ...          6.94        NaN                    1.0   \n",
       "4            33.80  ...          0.00        NaN                    1.0   \n",
       "...            ...  ...           ...        ...                    ...   \n",
       "48321        55.61  ...          0.00        NaN                    1.0   \n",
       "48322        13.58  ...          0.00        NaN                    1.0   \n",
       "48323        30.89  ...          0.00        NaN                    1.0   \n",
       "48324        14.78  ...          0.00        NaN                    1.0   \n",
       "48325        66.67  ...          6.94        NaN                    1.0   \n",
       "\n",
       "       total_amount  payment_type  trip_type  congestion_surcharge  \\\n",
       "0             34.00           1.0        1.0                  0.00   \n",
       "1             11.10           2.0        1.0                  0.00   \n",
       "2             26.55           2.0        2.0                  0.00   \n",
       "3             36.77           1.0        1.0                  0.00   \n",
       "4             46.86           1.0        1.0                  2.75   \n",
       "...             ...           ...        ...                   ...   \n",
       "48321         68.53           NaN        NaN                   NaN   \n",
       "48322         17.34           NaN        NaN                   NaN   \n",
       "48323         32.39           NaN        NaN                   NaN   \n",
       "48324         18.72           NaN        NaN                   NaN   \n",
       "48325         85.11           NaN        NaN                   NaN   \n",
       "\n",
       "       cbd_congestion_fee   duration    PU_DO  \n",
       "0                     0.0  14.183333   75_235  \n",
       "1                     0.0   5.883333   166_75  \n",
       "2                     0.0   1.866667   171_73  \n",
       "3                     0.0  15.466667   74_223  \n",
       "4                     0.0  36.083333   66_158  \n",
       "...                   ...        ...      ...  \n",
       "48321                 NaN  29.000000  179_132  \n",
       "48322                 NaN   8.000000   166_75  \n",
       "48323                 NaN  21.000000    41_42  \n",
       "48324                 NaN   3.000000    75_43  \n",
       "48325                 NaN   7.000000   42_194  \n",
       "\n",
       "[46307 rows x 23 columns]"
      ]
     },
     "execution_count": 2,
     "metadata": {},
     "output_type": "execute_result"
    }
   ],
   "source": [
    "df_train"
   ]
  },
  {
   "cell_type": "code",
   "execution_count": 3,
   "id": "ba5bad59",
   "metadata": {},
   "outputs": [
    {
     "name": "stderr",
     "output_type": "stream",
     "text": [
      "2025/10/16 20:29:08 INFO mlflow.store.db.utils: Creating initial MLflow database tables...\n",
      "2025/10/16 20:29:08 INFO mlflow.store.db.utils: Updating database tables\n",
      "INFO  [alembic.runtime.migration] Context impl SQLiteImpl.\n",
      "INFO  [alembic.runtime.migration] Will assume non-transactional DDL.\n",
      "INFO  [alembic.runtime.migration] Context impl SQLiteImpl.\n",
      "INFO  [alembic.runtime.migration] Will assume non-transactional DDL.\n",
      "2025/10/16 20:29:08 WARNING mlflow.models.model: `artifact_path` is deprecated. Please use `name` instead.\n",
      "2025/10/16 20:29:11 WARNING mlflow.utils.environment: Failed to resolve installed pip version. ``pip`` will be added to conda.yaml environment spec without a version specifier.\n",
      "\u001b[31m2025/10/16 20:29:11 WARNING mlflow.models.model: Model logged without a signature and input example. Please set `input_example` parameter when logging the model to auto infer the model signature.\u001b[0m\n"
     ]
    },
    {
     "name": "stdout",
     "output_type": "stream",
     "text": [
      "✅ Run finalizado. RMSE = 8.9926\n"
     ]
    }
   ],
   "source": [
    "import mlflow\n",
    "\n",
    "mlflow.set_tracking_uri(\"sqlite:///mlflow.db\")\n",
    "mlflow.set_experiment(\"class-nyc-taxi-experiment\")\n",
    "\n",
    "with mlflow.start_run(run_name=\"lasso_alpha_0.1\"):\n",
    "    alpha = 0.1\n",
    "    mlflow.log_param(\"alpha\", alpha)\n",
    "\n",
    "    model = Lasso(alpha=alpha)\n",
    "    model.fit(X_train, y_train)\n",
    "\n",
    "    y_pred = model.predict(X_val)\n",
    "    rmse = root_mean_squared_error(y_val, y_pred)\n",
    "\n",
    "    mlflow.log_metric(\"rmse\", rmse)\n",
    "    mlflow.sklearn.log_model(model, \"model\")\n",
    "\n",
    "    print(f\"✅ Run finalizado. RMSE = {rmse:.4f}\")"
   ]
  },
  {
   "cell_type": "code",
   "execution_count": 4,
   "id": "c0b64d5d",
   "metadata": {},
   "outputs": [],
   "source": [
    "from sklearn.ensemble import GradientBoostingRegressor, ExtraTreesRegressor\n",
    "from sklearn.svm import LinearSVR\n"
   ]
  },
  {
   "cell_type": "code",
   "execution_count": 5,
   "id": "6e8391dd",
   "metadata": {},
   "outputs": [],
   "source": [
    "import mlflow"
   ]
  },
  {
   "cell_type": "code",
   "execution_count": 6,
   "id": "23d82658",
   "metadata": {},
   "outputs": [
    {
     "data": {
      "text/plain": [
       "<Experiment: artifact_location='/home/sofi/Documents/vscode/nyc-taxi-predictions/notebooks/mlruns/2', creation_time=1760498538076, experiment_id='2', last_update_time=1760498538076, lifecycle_stage='active', name='nyc-taxi-model-registry-example', tags={'mlflow.experimentKind': 'custom_model_development'}>"
      ]
     },
     "execution_count": 6,
     "metadata": {},
     "output_type": "execute_result"
    }
   ],
   "source": [
    "mlflow.set_tracking_uri(\"sqlite:///mlflow.db\")\n",
    "mlflow.set_experiment(experiment_name=\"nyc-taxi-model-registry-example\")\n"
   ]
  },
  {
   "cell_type": "code",
   "execution_count": 7,
   "id": "5dfbcf6a",
   "metadata": {},
   "outputs": [],
   "source": [
    "mlflow.sklearn.autolog()"
   ]
  },
  {
   "cell_type": "code",
   "execution_count": 8,
   "id": "81c260ae",
   "metadata": {},
   "outputs": [],
   "source": [
    "import pickle"
   ]
  },
  {
   "cell_type": "code",
   "execution_count": 9,
   "id": "88d16098",
   "metadata": {},
   "outputs": [],
   "source": [
    "training_dataset = mlflow.data.from_numpy(X_train.data, targets=y_train, name=\"green_tripdata_2025-01\")\n",
    "validation_dataset = mlflow.data.from_numpy(X_val.data, targets=y_val, name=\"green_tripdata_2025-02\")"
   ]
  },
  {
   "cell_type": "code",
   "execution_count": 10,
   "id": "2c6a2f66",
   "metadata": {},
   "outputs": [],
   "source": [
    "models = [\n",
    "    \n",
    "    {\"model\": GradientBoostingRegressor,\n",
    "     \"params\": {\"n_estimators\": 100, \"learning_rate\": 0.3, \"max_depth\": 25, \"random_state\": 42},\n",
    "     },\n",
    "    \n",
    "    {\"model\": ExtraTreesRegressor,\n",
    "     \"params\": {\"n_estimators\": 100, \"max_depth\": 15, \"random_state\": 42},\n",
    "     },\n",
    "    \n",
    "    {\"model\": LinearSVR,\n",
    "     \"params\": {\"C\": 1.0, \"epsilon\": 0}, \n",
    "     },\n",
    "\n",
    "]\n"
   ]
  },
  {
   "cell_type": "code",
   "execution_count": 11,
   "id": "1ca96821",
   "metadata": {},
   "outputs": [
    {
     "name": "stderr",
     "output_type": "stream",
     "text": [
      "2025/10/16 20:29:28 WARNING mlflow.utils.environment: Failed to resolve installed pip version. ``pip`` will be added to conda.yaml environment spec without a version specifier.\n",
      "2025/10/16 20:29:39 WARNING mlflow.utils.environment: Failed to resolve installed pip version. ``pip`` will be added to conda.yaml environment spec without a version specifier.\n",
      "/home/sofi/Documents/vscode/nyc-taxi-predictions/.venv/lib/python3.11/site-packages/sklearn/svm/_base.py:1250: ConvergenceWarning: Liblinear failed to converge, increase the number of iterations.\n",
      "  warnings.warn(\n",
      "2025/10/16 20:29:46 WARNING mlflow.utils.environment: Failed to resolve installed pip version. ``pip`` will be added to conda.yaml environment spec without a version specifier.\n"
     ]
    }
   ],
   "source": [
    "with mlflow.start_run(run_name=\"Nested Runs\"):\n",
    "    for model in models:\n",
    "        \n",
    "        model_class = model[\"model\"]\n",
    "        model_name = model_class.__name__\n",
    "        params = model[\"params\"]\n",
    "        \n",
    "        with mlflow.start_run(run_name=model_name,nested=True):\n",
    "            \n",
    "            ml_model = model_class(**params)\n",
    "           \n",
    "            ml_model.fit(X_train, y_train)\n",
    "    \n",
    "            y_pred = ml_model.predict(X_val)\n",
    "            \n",
    "            rmse = root_mean_squared_error(y_val, y_pred)\n",
    "            mlflow.log_metric(\"rmse\", rmse)\n",
    "            \n",
    "            # !mkdir models\n",
    "            with open(\"models/preprocessor.b\", \"wb\") as f_out:\n",
    "                pickle.dump(dv, f_out)\n",
    "                \n",
    "            mlflow.log_artifact(\"models/preprocessor.b\", artifact_path=\"preprocessor\")\n"
   ]
  },
  {
   "cell_type": "code",
   "execution_count": 12,
   "id": "2828077a",
   "metadata": {},
   "outputs": [
    {
     "name": "stderr",
     "output_type": "stream",
     "text": [
      "2025/10/16 20:30:04 WARNING mlflow.utils.environment: Failed to resolve installed pip version. ``pip`` will be added to conda.yaml environment spec without a version specifier.\n",
      "2025/10/16 20:30:05 WARNING mlflow.models.model: `artifact_path` is deprecated. Please use `name` instead.\n",
      "2025/10/16 20:30:05 WARNING mlflow.sklearn: Model was missing function: predict. Not logging python_function flavor!\n",
      "2025/10/16 20:30:07 WARNING mlflow.utils.environment: Failed to resolve installed pip version. ``pip`` will be added to conda.yaml environment spec without a version specifier.\n",
      "\u001b[31m2025/10/16 20:30:07 WARNING mlflow.models.model: Model logged without a signature and input example. Please set `input_example` parameter when logging the model to auto infer the model signature.\u001b[0m\n",
      "2025/10/16 20:30:07 INFO mlflow.store.db.utils: Creating initial MLflow database tables...\n",
      "2025/10/16 20:30:07 INFO mlflow.store.db.utils: Updating database tables\n",
      "INFO  [alembic.runtime.migration] Context impl SQLiteImpl.\n",
      "INFO  [alembic.runtime.migration] Will assume non-transactional DDL.\n",
      "Registered model 'nyc-taxi-model' already exists. Creating a new version of this model...\n",
      "Created version '4' of model 'nyc-taxi-model'.\n"
     ]
    }
   ],
   "source": [
    "from sklearn.ensemble import RandomForestRegressor\n",
    "\n",
    "\n",
    "with mlflow.start_run(run_name=\"RandomForestRegressor\"):\n",
    "    ml_model = RandomForestRegressor(\n",
    "        n_estimators=100,\n",
    "        max_depth=15,\n",
    "        random_state=42\n",
    "    )\n",
    "    \n",
    "    ml_model.fit(X_train, y_train)\n",
    "    \n",
    "    mlflow.sklearn.log_model(\n",
    "        sk_model=model, \n",
    "        artifact_path=\"model\",\n",
    "        registered_model_name=\"nyc-taxi-model\"\n",
    "    )\n",
    "    \n",
    "    y_pred = ml_model.predict(X_val)\n",
    "    \n",
    "    rmse = root_mean_squared_error(y_val, y_pred)\n",
    "    mlflow.log_metric(\"rmse\", rmse)\n",
    "    \n",
    "    # !mkdir models\n",
    "    with open(\"models/preprocessor.b\", \"wb\") as f_out:\n",
    "        pickle.dump(dv, f_out)\n",
    "        \n",
    "    mlflow.log_artifact(\"models/preprocessor.b\", artifact_path=\"preprocessor\")\n"
   ]
  },
  {
   "cell_type": "code",
   "execution_count": 13,
   "id": "5e58f40f",
   "metadata": {},
   "outputs": [
    {
     "name": "stderr",
     "output_type": "stream",
     "text": [
      "Registered model 'nyc-taxi-model' already exists. Creating a new version of this model...\n",
      "2025/10/16 20:30:15 WARNING mlflow.tracking._model_registry.fluent: Run with id 1b48e72195f94a198820f6492234e69b has no artifacts at artifact path 'model', registering model based on models:/m-e0a4726e55a04ce584f2cf2828529062 instead\n",
      "Created version '5' of model 'nyc-taxi-model'.\n"
     ]
    }
   ],
   "source": [
    "run_id = input(\"1b48e72195f94a198820f6492234e69b\")\n",
    "run_uri = f\"runs:/{run_id}/model\"\n",
    "\n",
    "result = mlflow.register_model(\n",
    "    model_uri=run_uri,\n",
    "    name=\"nyc-taxi-model\"\n",
    ")\n"
   ]
  },
  {
   "cell_type": "code",
   "execution_count": 16,
   "id": "1f3124e0",
   "metadata": {},
   "outputs": [],
   "source": [
    "from mlflow import MlflowClient\n",
    "\n",
    "client = MlflowClient(tracking_uri=\"sqlite:///mlflow.db\")"
   ]
  },
  {
   "cell_type": "code",
   "execution_count": 19,
   "id": "d3787eb9",
   "metadata": {},
   "outputs": [
    {
     "data": {
      "text/plain": [
       "<RegisteredModel: aliases={}, creation_timestamp=1760668700233, deployment_job_id=None, deployment_job_state=None, description=None, last_updated_timestamp=1760668700233, latest_versions=[], name='nyc-taxi-model-client', tags={}>"
      ]
     },
     "execution_count": 19,
     "metadata": {},
     "output_type": "execute_result"
    }
   ],
   "source": [
    "client.create_registered_model(name=\"nyc-taxi-model-client\")"
   ]
  },
  {
   "cell_type": "code",
   "execution_count": 22,
   "id": "c5ea6124",
   "metadata": {},
   "outputs": [],
   "source": [
    "\n",
    "\n",
    "# create \"champion\" alias for version 1 of model \"example-model\"\n",
    "client.set_registered_model_alias(\n",
    "    name=\"nyc-taxi-model\", \n",
    "    alias=\"champion\",\n",
    "    version=1\n",
    ")\n",
    "\n",
    "# set the \"challenger\" alias to version 2\n",
    "client.set_registered_model_alias(\n",
    "    name=\"nyc-taxi-model\", \n",
    "    alias=\"challenger\",\n",
    "    version=2\n",
    ")\n"
   ]
  },
  {
   "cell_type": "code",
   "execution_count": 25,
   "id": "2ca2f028",
   "metadata": {},
   "outputs": [
    {
     "data": {
      "text/plain": [
       "<ModelVersion: aliases=['champion'], creation_timestamp=1760499535702, current_stage='None', deployment_job_state=None, description='This model version is a scikit-learn XGBoost.', last_updated_timestamp=1760669312127, metrics=None, model_id=None, name='nyc-taxi-model', params=None, run_id='7e5c37b6ebcd440fbf2dd9e3fd012b0d', run_link='', source='/home/sofi/Documents/vscode/nyc-taxi-predictions/notebooks/mlruns/2/models/m-037a0bcc49d54b3686a98a2e25b717b5/artifacts', status='READY', status_message=None, tags={}, user_id=None, version=1>"
      ]
     },
     "execution_count": 25,
     "metadata": {},
     "output_type": "execute_result"
    }
   ],
   "source": [
    "\n",
    "\n",
    "client.update_model_version(\n",
    "    name=\"nyc-taxi-model\",\n",
    "    version=1,\n",
    "    description=\"This model version is a scikit-learn XGBoost.\",\n",
    ")\n",
    "\n"
   ]
  },
  {
   "cell_type": "code",
   "execution_count": 26,
   "id": "108bf4a7",
   "metadata": {},
   "outputs": [
    {
     "data": {
      "text/plain": [
       "array([ 4.98661726, 24.1397534 , 26.9647779 , ..., 19.72875784,\n",
       "       15.33514682, 22.07257903], shape=(44218,))"
      ]
     },
     "execution_count": 26,
     "metadata": {},
     "output_type": "execute_result"
    }
   ],
   "source": [
    "import mlflow.pyfunc\n",
    "\n",
    "model_name = \"nyc-taxi-model\"\n",
    "model_version = 1\n",
    "\n",
    "model_uri = f\"models:/{model_name}/{model_version}\"\n",
    "\n",
    "model = mlflow.pyfunc.load_model(\n",
    "    model_uri=model_uri,\n",
    ")\n",
    "\n",
    "model.predict(X_val)\n"
   ]
  },
  {
   "cell_type": "code",
   "execution_count": 27,
   "id": "cad7ebdc",
   "metadata": {},
   "outputs": [
    {
     "data": {
      "text/plain": [
       "array([ 4.98661726, 24.1397534 , 26.9647779 , ..., 19.72875784,\n",
       "       15.33514682, 22.07257903], shape=(44218,))"
      ]
     },
     "execution_count": 27,
     "metadata": {},
     "output_type": "execute_result"
    }
   ],
   "source": [
    "import mlflow.pyfunc\n",
    "\n",
    "model_name = \"nyc-taxi-model\"\n",
    "alias = \"champion\"\n",
    "\n",
    "model_uri = f\"models:/{model_name}@{alias}\"\n",
    "\n",
    "champion_version = mlflow.pyfunc.load_model(\n",
    "    model_uri=model_uri\n",
    ")\n",
    "\n",
    "champion_version.predict(X_val)"
   ]
  },
  {
   "cell_type": "code",
   "execution_count": 28,
   "id": "75a9c8e4",
   "metadata": {},
   "outputs": [],
   "source": [
    "def read_dataframe(filename):\n",
    "    df = pd.read_parquet(filename)\n",
    "\n",
    "    df.lpep_dropoff_datetime = pd.to_datetime(df.lpep_dropoff_datetime)\n",
    "    df.lpep_pickup_datetime = pd.to_datetime(df.lpep_pickup_datetime)\n",
    "\n",
    "    df['duration'] = df.lpep_dropoff_datetime - df.lpep_pickup_datetime\n",
    "    df.duration = df.duration.apply(lambda td: td.total_seconds() / 60)\n",
    "\n",
    "    df = df[(df.duration >= 1) & (df.duration <= 60)]\n",
    "\n",
    "    categorical = ['PULocationID', 'DOLocationID']\n",
    "    df[categorical] = df[categorical].astype(str)\n",
    "    \n",
    "    return df\n",
    "\n",
    "\n",
    "def preprocess(df, dv):\n",
    "    df['PU_DO'] = df['PULocationID'] + '_' + df['DOLocationID']\n",
    "    categorical = ['PU_DO']\n",
    "    numerical = ['trip_distance']\n",
    "    train_dicts = df[categorical + numerical].to_dict(orient='records')\n",
    "    return dv.transform(train_dicts)\n",
    "\n",
    "\n",
    "def test_model(name, alias, X_test, y_test):\n",
    "    model = mlflow.pyfunc.load_model(f\"models:/{name}@{alias}\")\n",
    "    y_pred = model.predict(X_test)\n",
    "    return {\"rmse\": root_mean_squared_error(y_test, y_pred)}\n"
   ]
  },
  {
   "cell_type": "code",
   "execution_count": 30,
   "id": "afb804ab",
   "metadata": {},
   "outputs": [],
   "source": [
    "df = read_dataframe(\"../data/green_tripdata_2025-03.parquet\")"
   ]
  },
  {
   "cell_type": "code",
   "execution_count": 31,
   "id": "39ea5527",
   "metadata": {},
   "outputs": [
    {
     "data": {
      "text/plain": [
       "'/home/sofi/Documents/vscode/nyc-taxi-predictions/notebooks/preprocessor'"
      ]
     },
     "execution_count": 31,
     "metadata": {},
     "output_type": "execute_result"
    }
   ],
   "source": [
    "run_id = input(\"Ingrese el run_id\")\n",
    "\n",
    "client.download_artifacts(\n",
    "    run_id=run_id, \n",
    "    path='preprocessor', \n",
    "    dst_path='.'\n",
    ")"
   ]
  },
  {
   "cell_type": "code",
   "execution_count": 32,
   "id": "ab9f870e",
   "metadata": {},
   "outputs": [],
   "source": [
    "with open(\"preprocessor/preprocessor.b\", \"rb\") as f_in:\n",
    "    dv = pickle.load(f_in)\n"
   ]
  },
  {
   "cell_type": "code",
   "execution_count": 33,
   "id": "8c305043",
   "metadata": {},
   "outputs": [],
   "source": [
    "X_test = preprocess(df, dv)"
   ]
  },
  {
   "cell_type": "code",
   "execution_count": 34,
   "id": "f382db25",
   "metadata": {},
   "outputs": [],
   "source": [
    "target = \"duration\"\n",
    "y_test = df[target].values"
   ]
  },
  {
   "cell_type": "code",
   "execution_count": 35,
   "id": "e781abb7",
   "metadata": {},
   "outputs": [
    {
     "name": "stdout",
     "output_type": "stream",
     "text": [
      "CPU times: user 326 ms, sys: 6 ms, total: 332 ms\n",
      "Wall time: 331 ms\n"
     ]
    },
    {
     "data": {
      "text/plain": [
       "{'rmse': 6.01147524270201}"
      ]
     },
     "execution_count": 35,
     "metadata": {},
     "output_type": "execute_result"
    }
   ],
   "source": [
    "%time test_model(name=\"nyc-taxi-model\", alias=\"champion\", X_test=X_test, y_test=y_test)"
   ]
  },
  {
   "cell_type": "code",
   "execution_count": 39,
   "id": "19d26307",
   "metadata": {},
   "outputs": [
    {
     "name": "stdout",
     "output_type": "stream",
     "text": [
      "CPU times: user 48.6 ms, sys: 3.05 ms, total: 51.6 ms\n",
      "Wall time: 51.1 ms\n"
     ]
    },
    {
     "ename": "MlflowException",
     "evalue": "Model does not have the \"python_function\" flavor",
     "output_type": "error",
     "traceback": [
      "\u001b[31m---------------------------------------------------------------------------\u001b[39m",
      "\u001b[31mMlflowException\u001b[39m                           Traceback (most recent call last)",
      "\u001b[36mCell\u001b[39m\u001b[36m \u001b[39m\u001b[32mIn[39]\u001b[39m\u001b[32m, line 1\u001b[39m\n\u001b[32m----> \u001b[39m\u001b[32m1\u001b[39m \u001b[43mget_ipython\u001b[49m\u001b[43m(\u001b[49m\u001b[43m)\u001b[49m\u001b[43m.\u001b[49m\u001b[43mrun_line_magic\u001b[49m\u001b[43m(\u001b[49m\u001b[33;43m'\u001b[39;49m\u001b[33;43mtime\u001b[39;49m\u001b[33;43m'\u001b[39;49m\u001b[43m,\u001b[49m\u001b[43m \u001b[49m\u001b[33;43m'\u001b[39;49m\u001b[33;43mtest_model(name=model_name, alias=\u001b[39;49m\u001b[33;43m\"\u001b[39;49m\u001b[33;43mchallenger\u001b[39;49m\u001b[33;43m\"\u001b[39;49m\u001b[33;43m, X_test=X_test, y_test=y_test)\u001b[39;49m\u001b[33;43m'\u001b[39;49m\u001b[43m)\u001b[49m\n",
      "\u001b[36mFile \u001b[39m\u001b[32m~/Documents/vscode/nyc-taxi-predictions/.venv/lib/python3.11/site-packages/IPython/core/interactiveshell.py:2504\u001b[39m, in \u001b[36mInteractiveShell.run_line_magic\u001b[39m\u001b[34m(self, magic_name, line, _stack_depth)\u001b[39m\n\u001b[32m   2502\u001b[39m     kwargs[\u001b[33m'\u001b[39m\u001b[33mlocal_ns\u001b[39m\u001b[33m'\u001b[39m] = \u001b[38;5;28mself\u001b[39m.get_local_scope(stack_depth)\n\u001b[32m   2503\u001b[39m \u001b[38;5;28;01mwith\u001b[39;00m \u001b[38;5;28mself\u001b[39m.builtin_trap:\n\u001b[32m-> \u001b[39m\u001b[32m2504\u001b[39m     result = \u001b[43mfn\u001b[49m\u001b[43m(\u001b[49m\u001b[43m*\u001b[49m\u001b[43margs\u001b[49m\u001b[43m,\u001b[49m\u001b[43m \u001b[49m\u001b[43m*\u001b[49m\u001b[43m*\u001b[49m\u001b[43mkwargs\u001b[49m\u001b[43m)\u001b[49m\n\u001b[32m   2506\u001b[39m \u001b[38;5;66;03m# The code below prevents the output from being displayed\u001b[39;00m\n\u001b[32m   2507\u001b[39m \u001b[38;5;66;03m# when using magics with decorator @output_can_be_silenced\u001b[39;00m\n\u001b[32m   2508\u001b[39m \u001b[38;5;66;03m# when the last Python token in the expression is a ';'.\u001b[39;00m\n\u001b[32m   2509\u001b[39m \u001b[38;5;28;01mif\u001b[39;00m \u001b[38;5;28mgetattr\u001b[39m(fn, magic.MAGIC_OUTPUT_CAN_BE_SILENCED, \u001b[38;5;28;01mFalse\u001b[39;00m):\n",
      "\u001b[36mFile \u001b[39m\u001b[32m~/Documents/vscode/nyc-taxi-predictions/.venv/lib/python3.11/site-packages/IPython/core/magics/execution.py:1452\u001b[39m, in \u001b[36mExecutionMagics.time\u001b[39m\u001b[34m(self, line, cell, local_ns)\u001b[39m\n\u001b[32m   1450\u001b[39m \u001b[38;5;28;01mif\u001b[39;00m interrupt_occured:\n\u001b[32m   1451\u001b[39m     \u001b[38;5;28;01mif\u001b[39;00m exit_on_interrupt \u001b[38;5;129;01mand\u001b[39;00m captured_exception:\n\u001b[32m-> \u001b[39m\u001b[32m1452\u001b[39m         \u001b[38;5;28;01mraise\u001b[39;00m captured_exception\n\u001b[32m   1453\u001b[39m     \u001b[38;5;28;01mreturn\u001b[39;00m\n\u001b[32m   1454\u001b[39m \u001b[38;5;28;01mreturn\u001b[39;00m out\n",
      "\u001b[36mFile \u001b[39m\u001b[32m~/Documents/vscode/nyc-taxi-predictions/.venv/lib/python3.11/site-packages/IPython/core/magics/execution.py:1402\u001b[39m, in \u001b[36mExecutionMagics.time\u001b[39m\u001b[34m(self, line, cell, local_ns)\u001b[39m\n\u001b[32m   1400\u001b[39m st = clock2()\n\u001b[32m   1401\u001b[39m \u001b[38;5;28;01mtry\u001b[39;00m:\n\u001b[32m-> \u001b[39m\u001b[32m1402\u001b[39m     out = \u001b[38;5;28;43meval\u001b[39;49m\u001b[43m(\u001b[49m\u001b[43mcode\u001b[49m\u001b[43m,\u001b[49m\u001b[43m \u001b[49m\u001b[43mglob\u001b[49m\u001b[43m,\u001b[49m\u001b[43m \u001b[49m\u001b[43mlocal_ns\u001b[49m\u001b[43m)\u001b[49m\n\u001b[32m   1403\u001b[39m \u001b[38;5;28;01mexcept\u001b[39;00m \u001b[38;5;167;01mKeyboardInterrupt\u001b[39;00m \u001b[38;5;28;01mas\u001b[39;00m e:\n\u001b[32m   1404\u001b[39m     captured_exception = e\n",
      "\u001b[36mFile \u001b[39m\u001b[32m<timed eval>:1\u001b[39m\n",
      "\u001b[36mCell\u001b[39m\u001b[36m \u001b[39m\u001b[32mIn[28]\u001b[39m\u001b[32m, line 27\u001b[39m, in \u001b[36mtest_model\u001b[39m\u001b[34m(name, alias, X_test, y_test)\u001b[39m\n\u001b[32m     26\u001b[39m \u001b[38;5;28;01mdef\u001b[39;00m\u001b[38;5;250m \u001b[39m\u001b[34mtest_model\u001b[39m(name, alias, X_test, y_test):\n\u001b[32m---> \u001b[39m\u001b[32m27\u001b[39m     model = \u001b[43mmlflow\u001b[49m\u001b[43m.\u001b[49m\u001b[43mpyfunc\u001b[49m\u001b[43m.\u001b[49m\u001b[43mload_model\u001b[49m\u001b[43m(\u001b[49m\u001b[33;43mf\u001b[39;49m\u001b[33;43m\"\u001b[39;49m\u001b[33;43mmodels:/\u001b[39;49m\u001b[38;5;132;43;01m{\u001b[39;49;00m\u001b[43mname\u001b[49m\u001b[38;5;132;43;01m}\u001b[39;49;00m\u001b[33;43m@\u001b[39;49m\u001b[38;5;132;43;01m{\u001b[39;49;00m\u001b[43malias\u001b[49m\u001b[38;5;132;43;01m}\u001b[39;49;00m\u001b[33;43m\"\u001b[39;49m\u001b[43m)\u001b[49m\n\u001b[32m     28\u001b[39m     y_pred = model.predict(X_test)\n\u001b[32m     29\u001b[39m     \u001b[38;5;28;01mreturn\u001b[39;00m {\u001b[33m\"\u001b[39m\u001b[33mrmse\u001b[39m\u001b[33m\"\u001b[39m: root_mean_squared_error(y_test, y_pred)}\n",
      "\u001b[36mFile \u001b[39m\u001b[32m~/Documents/vscode/nyc-taxi-predictions/.venv/lib/python3.11/site-packages/mlflow/tracing/provider.py:508\u001b[39m, in \u001b[36mtrace_disabled.<locals>.wrapper\u001b[39m\u001b[34m(*args, **kwargs)\u001b[39m\n\u001b[32m    506\u001b[39m \u001b[38;5;28;01mtry\u001b[39;00m:\n\u001b[32m    507\u001b[39m     is_func_called = \u001b[38;5;28;01mTrue\u001b[39;00m\n\u001b[32m--> \u001b[39m\u001b[32m508\u001b[39m     result = \u001b[43mf\u001b[49m\u001b[43m(\u001b[49m\u001b[43m*\u001b[49m\u001b[43margs\u001b[49m\u001b[43m,\u001b[49m\u001b[43m \u001b[49m\u001b[43m*\u001b[49m\u001b[43m*\u001b[49m\u001b[43mkwargs\u001b[49m\u001b[43m)\u001b[49m\n\u001b[32m    509\u001b[39m \u001b[38;5;28;01mfinally\u001b[39;00m:\n\u001b[32m    510\u001b[39m     enable()\n",
      "\u001b[36mFile \u001b[39m\u001b[32m~/Documents/vscode/nyc-taxi-predictions/.venv/lib/python3.11/site-packages/mlflow/pyfunc/__init__.py:1151\u001b[39m, in \u001b[36mload_model\u001b[39m\u001b[34m(model_uri, suppress_warnings, dst_path, model_config)\u001b[39m\n\u001b[32m   1149\u001b[39m conf = model_meta.flavors.get(FLAVOR_NAME)\n\u001b[32m   1150\u001b[39m \u001b[38;5;28;01mif\u001b[39;00m conf \u001b[38;5;129;01mis\u001b[39;00m \u001b[38;5;28;01mNone\u001b[39;00m:\n\u001b[32m-> \u001b[39m\u001b[32m1151\u001b[39m     \u001b[38;5;28;01mraise\u001b[39;00m MlflowException(\n\u001b[32m   1152\u001b[39m         \u001b[33mf\u001b[39m\u001b[33m'\u001b[39m\u001b[33mModel does not have the \u001b[39m\u001b[33m\"\u001b[39m\u001b[38;5;132;01m{\u001b[39;00mFLAVOR_NAME\u001b[38;5;132;01m}\u001b[39;00m\u001b[33m\"\u001b[39m\u001b[33m flavor\u001b[39m\u001b[33m'\u001b[39m,\n\u001b[32m   1153\u001b[39m         RESOURCE_DOES_NOT_EXIST,\n\u001b[32m   1154\u001b[39m     )\n\u001b[32m   1155\u001b[39m model_py_version = conf.get(PY_VERSION)\n\u001b[32m   1156\u001b[39m \u001b[38;5;28;01mif\u001b[39;00m \u001b[38;5;129;01mnot\u001b[39;00m suppress_warnings:\n",
      "\u001b[31mMlflowException\u001b[39m: Model does not have the \"python_function\" flavor"
     ]
    }
   ],
   "source": [
    "%time test_model(name=model_name, alias=\"challenger\", X_test=X_test, y_test=y_test)"
   ]
  },
  {
   "cell_type": "code",
   "execution_count": 38,
   "id": "379cf85a",
   "metadata": {},
   "outputs": [
    {
     "ename": "MlflowException",
     "evalue": "Model Version (name=nyc-taxi-model, version=100) not found",
     "output_type": "error",
     "traceback": [
      "\u001b[31m---------------------------------------------------------------------------\u001b[39m",
      "\u001b[31mMlflowException\u001b[39m                           Traceback (most recent call last)",
      "\u001b[36mCell\u001b[39m\u001b[36m \u001b[39m\u001b[32mIn[38]\u001b[39m\u001b[32m, line 1\u001b[39m\n\u001b[32m----> \u001b[39m\u001b[32m1\u001b[39m \u001b[43mclient\u001b[49m\u001b[43m.\u001b[49m\u001b[43mset_registered_model_alias\u001b[49m\u001b[43m(\u001b[49m\n\u001b[32m      2\u001b[39m \u001b[43m    \u001b[49m\u001b[43mname\u001b[49m\u001b[43m=\u001b[49m\u001b[33;43m\"\u001b[39;49m\u001b[33;43mnyc-taxi-model\u001b[39;49m\u001b[33;43m\"\u001b[39;49m\u001b[43m,\u001b[49m\u001b[43m \u001b[49m\n\u001b[32m      3\u001b[39m \u001b[43m    \u001b[49m\u001b[43malias\u001b[49m\u001b[43m=\u001b[49m\u001b[33;43m\"\u001b[39;49m\u001b[33;43mchampion\u001b[39;49m\u001b[33;43m\"\u001b[39;49m\u001b[43m,\u001b[49m\n\u001b[32m      4\u001b[39m \u001b[43m    \u001b[49m\u001b[43mversion\u001b[49m\u001b[43m=\u001b[49m\u001b[32;43m100\u001b[39;49m\n\u001b[32m      5\u001b[39m \u001b[43m)\u001b[49m\n",
      "\u001b[36mFile \u001b[39m\u001b[32m~/Documents/vscode/nyc-taxi-predictions/.venv/lib/python3.11/site-packages/mlflow/tracking/client.py:5206\u001b[39m, in \u001b[36mMlflowClient.set_registered_model_alias\u001b[39m\u001b[34m(self, name, alias, version)\u001b[39m\n\u001b[32m   5204\u001b[39m _validate_model_version(version)\n\u001b[32m   5205\u001b[39m \u001b[38;5;28mself\u001b[39m._raise_if_prompt(name)\n\u001b[32m-> \u001b[39m\u001b[32m5206\u001b[39m \u001b[38;5;28;43mself\u001b[39;49m\u001b[43m.\u001b[49m\u001b[43m_get_registry_client\u001b[49m\u001b[43m(\u001b[49m\u001b[43m)\u001b[49m\u001b[43m.\u001b[49m\u001b[43mset_registered_model_alias\u001b[49m\u001b[43m(\u001b[49m\u001b[43mname\u001b[49m\u001b[43m,\u001b[49m\u001b[43m \u001b[49m\u001b[43malias\u001b[49m\u001b[43m,\u001b[49m\u001b[43m \u001b[49m\u001b[43mversion\u001b[49m\u001b[43m)\u001b[49m\n",
      "\u001b[36mFile \u001b[39m\u001b[32m~/Documents/vscode/nyc-taxi-predictions/.venv/lib/python3.11/site-packages/mlflow/tracking/_model_registry/client.py:449\u001b[39m, in \u001b[36mModelRegistryClient.set_registered_model_alias\u001b[39m\u001b[34m(self, name, alias, version)\u001b[39m\n\u001b[32m    438\u001b[39m \u001b[38;5;28;01mdef\u001b[39;00m\u001b[38;5;250m \u001b[39m\u001b[34mset_registered_model_alias\u001b[39m(\u001b[38;5;28mself\u001b[39m, name, alias, version):\n\u001b[32m    439\u001b[39m \u001b[38;5;250m    \u001b[39m\u001b[33;03m\"\"\"Set a registered model alias pointing to a model version.\u001b[39;00m\n\u001b[32m    440\u001b[39m \n\u001b[32m    441\u001b[39m \u001b[33;03m    Args:\u001b[39;00m\n\u001b[32m   (...)\u001b[39m\u001b[32m    447\u001b[39m \u001b[33;03m        None\u001b[39;00m\n\u001b[32m    448\u001b[39m \u001b[33;03m    \"\"\"\u001b[39;00m\n\u001b[32m--> \u001b[39m\u001b[32m449\u001b[39m     \u001b[38;5;28;43mself\u001b[39;49m\u001b[43m.\u001b[49m\u001b[43mstore\u001b[49m\u001b[43m.\u001b[49m\u001b[43mset_registered_model_alias\u001b[49m\u001b[43m(\u001b[49m\u001b[43mname\u001b[49m\u001b[43m,\u001b[49m\u001b[43m \u001b[49m\u001b[43malias\u001b[49m\u001b[43m,\u001b[49m\u001b[43m \u001b[49m\u001b[43mversion\u001b[49m\u001b[43m)\u001b[49m\n",
      "\u001b[36mFile \u001b[39m\u001b[32m~/Documents/vscode/nyc-taxi-predictions/.venv/lib/python3.11/site-packages/mlflow/store/model_registry/sqlalchemy_store.py:1250\u001b[39m, in \u001b[36mSqlAlchemyStore.set_registered_model_alias\u001b[39m\u001b[34m(self, name, alias, version)\u001b[39m\n\u001b[32m   1247\u001b[39m _validate_model_version(version)\n\u001b[32m   1248\u001b[39m \u001b[38;5;28;01mwith\u001b[39;00m \u001b[38;5;28mself\u001b[39m.ManagedSessionMaker() \u001b[38;5;28;01mas\u001b[39;00m session:\n\u001b[32m   1249\u001b[39m     \u001b[38;5;66;03m# check if model version exists\u001b[39;00m\n\u001b[32m-> \u001b[39m\u001b[32m1250\u001b[39m     \u001b[38;5;28;43mself\u001b[39;49m\u001b[43m.\u001b[49m\u001b[43m_get_sql_model_version\u001b[49m\u001b[43m(\u001b[49m\u001b[43msession\u001b[49m\u001b[43m,\u001b[49m\u001b[43m \u001b[49m\u001b[43mname\u001b[49m\u001b[43m,\u001b[49m\u001b[43m \u001b[49m\u001b[43mversion\u001b[49m\u001b[43m)\u001b[49m\n\u001b[32m   1251\u001b[39m     session.merge(SqlRegisteredModelAlias(name=name, alias=alias, version=version))\n",
      "\u001b[36mFile \u001b[39m\u001b[32m~/Documents/vscode/nyc-taxi-predictions/.venv/lib/python3.11/site-packages/mlflow/store/model_registry/sqlalchemy_store.py:875\u001b[39m, in \u001b[36mSqlAlchemyStore._get_sql_model_version\u001b[39m\u001b[34m(cls, session, name, version, eager)\u001b[39m\n\u001b[32m    869\u001b[39m query_options = \u001b[38;5;28mcls\u001b[39m._get_eager_model_version_query_options() \u001b[38;5;28;01mif\u001b[39;00m eager \u001b[38;5;28;01melse\u001b[39;00m []\n\u001b[32m    870\u001b[39m conditions = [\n\u001b[32m    871\u001b[39m     SqlModelVersion.name == name,\n\u001b[32m    872\u001b[39m     SqlModelVersion.version == version,\n\u001b[32m    873\u001b[39m     SqlModelVersion.current_stage != STAGE_DELETED_INTERNAL,\n\u001b[32m    874\u001b[39m ]\n\u001b[32m--> \u001b[39m\u001b[32m875\u001b[39m \u001b[38;5;28;01mreturn\u001b[39;00m \u001b[38;5;28;43mcls\u001b[39;49m\u001b[43m.\u001b[49m\u001b[43m_get_model_version_from_db\u001b[49m\u001b[43m(\u001b[49m\u001b[43msession\u001b[49m\u001b[43m,\u001b[49m\u001b[43m \u001b[49m\u001b[43mname\u001b[49m\u001b[43m,\u001b[49m\u001b[43m \u001b[49m\u001b[43mversion\u001b[49m\u001b[43m,\u001b[49m\u001b[43m \u001b[49m\u001b[43mconditions\u001b[49m\u001b[43m,\u001b[49m\u001b[43m \u001b[49m\u001b[43mquery_options\u001b[49m\u001b[43m)\u001b[49m\n",
      "\u001b[36mFile \u001b[39m\u001b[32m~/Documents/vscode/nyc-taxi-predictions/.venv/lib/python3.11/site-packages/mlflow/store/model_registry/sqlalchemy_store.py:846\u001b[39m, in \u001b[36mSqlAlchemyStore._get_model_version_from_db\u001b[39m\u001b[34m(cls, session, name, version, conditions, query_options)\u001b[39m\n\u001b[32m    843\u001b[39m versions = session.query(SqlModelVersion).options(*query_options).filter(*conditions).all()\n\u001b[32m    845\u001b[39m \u001b[38;5;28;01mif\u001b[39;00m \u001b[38;5;28mlen\u001b[39m(versions) == \u001b[32m0\u001b[39m:\n\u001b[32m--> \u001b[39m\u001b[32m846\u001b[39m     \u001b[38;5;28;01mraise\u001b[39;00m MlflowException(\n\u001b[32m    847\u001b[39m         \u001b[33mf\u001b[39m\u001b[33m\"\u001b[39m\u001b[33mModel Version (name=\u001b[39m\u001b[38;5;132;01m{\u001b[39;00mname\u001b[38;5;132;01m}\u001b[39;00m\u001b[33m, version=\u001b[39m\u001b[38;5;132;01m{\u001b[39;00mversion\u001b[38;5;132;01m}\u001b[39;00m\u001b[33m) not found\u001b[39m\u001b[33m\"\u001b[39m,\n\u001b[32m    848\u001b[39m         RESOURCE_DOES_NOT_EXIST,\n\u001b[32m    849\u001b[39m     )\n\u001b[32m    850\u001b[39m \u001b[38;5;28;01mif\u001b[39;00m \u001b[38;5;28mlen\u001b[39m(versions) > \u001b[32m1\u001b[39m:\n\u001b[32m    851\u001b[39m     \u001b[38;5;28;01mraise\u001b[39;00m MlflowException(\n\u001b[32m    852\u001b[39m         \u001b[33mf\u001b[39m\u001b[33m\"\u001b[39m\u001b[33mExpected only 1 model version with (name=\u001b[39m\u001b[38;5;132;01m{\u001b[39;00mname\u001b[38;5;132;01m}\u001b[39;00m\u001b[33m, version=\u001b[39m\u001b[38;5;132;01m{\u001b[39;00mversion\u001b[38;5;132;01m}\u001b[39;00m\u001b[33m). \u001b[39m\u001b[33m\"\u001b[39m\n\u001b[32m    853\u001b[39m         \u001b[33mf\u001b[39m\u001b[33m\"\u001b[39m\u001b[33mFound \u001b[39m\u001b[38;5;132;01m{\u001b[39;00m\u001b[38;5;28mlen\u001b[39m(versions)\u001b[38;5;132;01m}\u001b[39;00m\u001b[33m.\u001b[39m\u001b[33m\"\u001b[39m,\n\u001b[32m    854\u001b[39m         INVALID_STATE,\n\u001b[32m    855\u001b[39m     )\n",
      "\u001b[31mMlflowException\u001b[39m: Model Version (name=nyc-taxi-model, version=100) not found"
     ]
    }
   ],
   "source": [
    "client.set_registered_model_alias(\n",
    "    name=\"nyc-taxi-model\", \n",
    "    alias=\"champion\",\n",
    "    version=100\n",
    ")\n"
   ]
  }
 ],
 "metadata": {
  "kernelspec": {
   "display_name": "nyc-taxi-predictions",
   "language": "python",
   "name": "python3"
  },
  "language_info": {
   "codemirror_mode": {
    "name": "ipython",
    "version": 3
   },
   "file_extension": ".py",
   "mimetype": "text/x-python",
   "name": "python",
   "nbconvert_exporter": "python",
   "pygments_lexer": "ipython3",
   "version": "3.11.13"
  }
 },
 "nbformat": 4,
 "nbformat_minor": 5
}
