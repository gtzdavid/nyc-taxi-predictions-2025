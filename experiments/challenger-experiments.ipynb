{
 "cells": [
  {
   "cell_type": "markdown",
   "id": "68656289",
   "metadata": {},
   "source": [
    "<style>\n",
    "#title {\n",
    "    text-align: center;\n",
    "    font-family: Helvetica, Sans-serif;\n",
    "}\n",
    "#assign_name {\n",
    "    text-align: center;\n",
    "    font-size: 30px;\n",
    "    font-weight: 200\n",
    "}\n",
    "#info {\n",
    "    text-aling: left;\n",
    "    font-size: 20px;\n",
    "    font-weight: 200\n",
    "}\n",
    "\n",
    "</style>\n",
    "\n",
    "<h1 id='title'>Trabajo en Clase 4</h1> \n",
    "<p id='assign_name'>DataBricks</p>\n",
    "<p id='info'>Por Sofía Maldonado García</p>\n",
    "<p id='info'>Curso: Proyecto de Ciencia de Datos</p>\n",
    "<p id='info'>Profesor: Cristian Zapata</p>\n",
    "\n",
    "***"
   ]
  },
  {
   "cell_type": "code",
   "execution_count": 13,
   "id": "47892d32",
   "metadata": {},
   "outputs": [],
   "source": [
    "# Imports\n",
    "\n",
    "# Generales\n",
    "import os, pickle\n",
    "import pandas as pd\n",
    "from dotenv import load_dotenv\n",
    "import math\n",
    "import pathlib\n",
    "\n",
    "# Modelado\n",
    "import xgboost as xgb\n",
    "from sklearn.ensemble import GradientBoostingClassifier, RandomForestRegressor\n",
    "from sklearn.model_selection import train_test_split, ParameterGrid\n",
    "from sklearn.feature_extraction import DictVectorizer\n",
    "from sklearn.metrics import root_mean_squared_error\n",
    "import optuna\n",
    "from optuna.samplers import TPESampler\n",
    "from mlflow.models.signature import infer_signature\n",
    "\n",
    "# Registro\n",
    "import mlflow\n",
    "from mlflow.tracking import MlflowClient"
   ]
  },
  {
   "cell_type": "code",
   "execution_count": 2,
   "id": "b844511f",
   "metadata": {},
   "outputs": [],
   "source": [
    "# Experiment Setup\n",
    "load_dotenv(override=True)\n",
    "EXPERIMENT_NAME = \"/Users/alfonso.maldonado@iteso.mx/tarea4\"\n",
    "\n",
    "mlflow.set_tracking_uri('databricks')\n",
    "experiment = mlflow.set_experiment(experiment_name=EXPERIMENT_NAME)"
   ]
  },
  {
   "cell_type": "code",
   "execution_count": 3,
   "id": "4604428f",
   "metadata": {},
   "outputs": [],
   "source": [
    "# Helper functions\n",
    "\n",
    "def read_dataframe(filename):\n",
    "\n",
    "    df = pd.read_parquet(filename)\n",
    "\n",
    "    df['duration'] = df.lpep_dropoff_datetime - df.lpep_pickup_datetime\n",
    "    df.duration = df.duration.apply(lambda td: td.total_seconds() / 60)\n",
    "\n",
    "    df = df[(df.duration >= 1) & (df.duration <= 60)]\n",
    "\n",
    "    categorical = ['PULocationID', 'DOLocationID']\n",
    "    df[categorical] = df[categorical].astype(str)\n",
    "\n",
    "    return df\n",
    "\n",
    "def preprocess(df, dv):\n",
    "    df['PU_DO'] = df['PULocationID'] + '_' + df['DOLocationID']\n",
    "    categorical = ['PU_DO']\n",
    "    numerical = ['trip_distance']\n",
    "    train_dicts = df[categorical + numerical].to_dict(orient='records')\n",
    "    return dv.transform(train_dicts)"
   ]
  },
  {
   "cell_type": "code",
   "execution_count": null,
   "id": "1d9c6e62",
   "metadata": {},
   "outputs": [],
   "source": [
    "# Reading datasets\n",
    "df_train = read_dataframe('../data/green_tripdata_2025-01.parquet')\n",
    "df_val = read_dataframe('../data/green_tripdata_2025-02.parquet')"
   ]
  },
  {
   "cell_type": "code",
   "execution_count": null,
   "id": "ff29897f",
   "metadata": {},
   "outputs": [],
   "source": [
    "# Feature Engineering\n",
    "df_train['PU_DO'] = df_train['PULocationID'] + '_' + df_train['DOLocationID']\n",
    "categorical = ['PU_DO']\n",
    "numerical = ['trip_distance']\n",
    "dv = DictVectorizer()\n",
    "\n",
    "train_dicts = df_train[categorical + numerical].to_dict(orient='records')\n",
    "X_train = dv.fit_transform(train_dicts)\n",
    "\n",
    "X_val = preprocess(df_val, dv)"
   ]
  },
  {
   "cell_type": "code",
   "execution_count": 6,
   "id": "3860730c",
   "metadata": {},
   "outputs": [],
   "source": [
    "target = 'duration'\n",
    "y_train = df_train[target].values\n",
    "y_val = df_val[target].values\n",
    "\n",
    "y_train = y_train.astype(int)\n",
    "y_val = y_val.astype(int)"
   ]
  },
  {
   "cell_type": "code",
   "execution_count": null,
   "id": "f3fd6435",
   "metadata": {},
   "outputs": [],
   "source": [
    "# Train Test Split for MLFlow register\n",
    "training_dataset = mlflow.data.from_numpy(X_train.data, targets=y_train, name=\"green_tripdata_2025-01\")\n",
    "validation_dataset = mlflow.data.from_numpy(X_val.data, targets=y_val, name=\"green_tripdata_2025-02\")"
   ]
  },
  {
   "cell_type": "code",
   "execution_count": null,
   "id": "1b074f8b",
   "metadata": {},
   "outputs": [],
   "source": [
    "# DMatrix, specific for XGBoost\n",
    "train = xgb.DMatrix(X_train, label=y_train)\n",
    "valid = xgb.DMatrix(X_val, label=y_val)"
   ]
  },
  {
   "cell_type": "markdown",
   "id": "adce67de",
   "metadata": {},
   "source": [
    "# XGBoost"
   ]
  },
  {
   "cell_type": "code",
   "execution_count": 33,
   "id": "ed87b17a",
   "metadata": {},
   "outputs": [],
   "source": [
    "# ------------------------------------------------------------\n",
    "# Definir la función objetivo para Optuna\n",
    "#    - Recibe un `trial`, que se usa para proponer hiperparámetros.\n",
    "#    - Entrena un modelo con esos hiperparámetros.\n",
    "#    - Calcula la métrica de validación (RMSE) y la retorna (Optuna la minimizará).\n",
    "#    - Abrimos un run anidado de MLflow para registrar cada trial.\n",
    "# ------------------------------------------------------------\n",
    "def objective(trial: optuna.trial.Trial):\n",
    "    # Hiperparámetros MUESTREADOS por Optuna en CADA trial.\n",
    "    # Nota: usamos log=True para emular rangos log-uniformes (similar a loguniform).\n",
    "    params = {\n",
    "        \"max_depth\": trial.suggest_int(\"max_depth\", 4, 100),\n",
    "        \"learning_rate\": trial.suggest_float(\"learning_rate\", math.exp(-3), 1.0, log=True),\n",
    "        \"reg_alpha\": trial.suggest_float(\"reg_alpha\",   math.exp(-5), math.exp(-1), log=True),\n",
    "        \"reg_lambda\": trial.suggest_float(\"reg_lambda\", math.exp(-6), math.exp(-1), log=True),\n",
    "        \"min_child_weight\": trial.suggest_float(\"min_child_weight\", math.exp(-1), math.exp(3), log=True),\n",
    "        \"objective\": \"reg:squarederror\",  \n",
    "        \"seed\": 42,                      \n",
    "    }\n",
    "\n",
    "    # Run anidado para dejar rastro de cada trial en MLflow\n",
    "    with mlflow.start_run(nested=True):\n",
    "        mlflow.set_tag(\"model_family\", \"xgboost\")  # etiqueta informativa\n",
    "        mlflow.log_params(params)                  # registra hiperparámetros del trial\n",
    "\n",
    "        # Entrenamiento con early stopping en el conjunto de validación\n",
    "        booster = xgb.train(\n",
    "            params=params,\n",
    "            dtrain=train,\n",
    "            num_boost_round=100,\n",
    "            evals=[(valid, \"validation\")],\n",
    "            early_stopping_rounds=10,\n",
    "        )\n",
    "\n",
    "        # Predicción y métrica en validación\n",
    "        y_pred = booster.predict(valid)\n",
    "        rmse = root_mean_squared_error(y_val, y_pred)\n",
    "\n",
    "        # Registrar la métrica principal\n",
    "        mlflow.log_metric(\"rmse\", rmse)\n",
    "\n",
    "        # La \"signature\" describe la estructura esperada de entrada y salida del modelo:\n",
    "        # incluye los nombres, tipos y forma (shape) de las variables de entrada y el tipo de salida.\n",
    "        # MLflow la usa para validar datos en inferencia y documentar el modelo en el Model Registry.\n",
    "        signature = infer_signature(X_val, y_pred)\n",
    "\n",
    "        # Guardar el modelo del trial como artefacto en MLflow.\n",
    "        mlflow.xgboost.log_model(\n",
    "            booster,\n",
    "            name=\"model\",\n",
    "            input_example=X_val[:5],\n",
    "            signature=signature\n",
    "        )\n",
    "\n",
    "    # Optuna minimiza el valor retornado\n",
    "    return rmse"
   ]
  },
  {
   "cell_type": "code",
   "execution_count": 34,
   "id": "533b19a5",
   "metadata": {},
   "outputs": [
    {
     "name": "stderr",
     "output_type": "stream",
     "text": [
      "[I 2025-10-23 21:24:46,819] A new study created in memory with name: no-name-3ca1134f-c4e5-442e-8fed-3a52a1beb573\n"
     ]
    },
    {
     "name": "stdout",
     "output_type": "stream",
     "text": [
      "[0]\tvalidation-rmse:5.72656\n",
      "[1]\tvalidation-rmse:5.58439\n",
      "[2]\tvalidation-rmse:5.57299\n",
      "[3]\tvalidation-rmse:5.56482\n",
      "[4]\tvalidation-rmse:5.56776\n",
      "[5]\tvalidation-rmse:5.55068\n",
      "[6]\tvalidation-rmse:5.55101\n",
      "[7]\tvalidation-rmse:5.54669\n",
      "[8]\tvalidation-rmse:5.54169\n",
      "[9]\tvalidation-rmse:5.54048\n",
      "[10]\tvalidation-rmse:5.53883\n",
      "[11]\tvalidation-rmse:5.53449\n",
      "[12]\tvalidation-rmse:5.52788\n",
      "[13]\tvalidation-rmse:5.52992\n",
      "[14]\tvalidation-rmse:5.52920\n",
      "[15]\tvalidation-rmse:5.52853\n",
      "[16]\tvalidation-rmse:5.53104\n",
      "[17]\tvalidation-rmse:5.52973\n",
      "[18]\tvalidation-rmse:5.53397\n",
      "[19]\tvalidation-rmse:5.53149\n",
      "[20]\tvalidation-rmse:5.53267\n",
      "[21]\tvalidation-rmse:5.53209\n",
      "[22]\tvalidation-rmse:5.53033\n"
     ]
    },
    {
     "name": "stderr",
     "output_type": "stream",
     "text": [
      "/home/sofi/Documents/vscode/nyc-taxi-predictions/.venv/lib/python3.11/site-packages/mlflow/xgboost/__init__.py:169: UserWarning: [21:25:03] WARNING: /workspace/src/c_api/c_api.cc:1575: Saving model in the UBJSON format as default.  You can use a file extension: `json` or `ubj` to choose between formats.\n",
      "  xgb_model.save_model(model_data_path)\n",
      "2025/10/23 21:25:06 WARNING mlflow.utils.environment: Failed to resolve installed pip version. ``pip`` will be added to conda.yaml environment spec without a version specifier.\n",
      "/home/sofi/Documents/vscode/nyc-taxi-predictions/.venv/lib/python3.11/site-packages/mlflow/xgboost/__init__.py:321: UserWarning: [21:25:06] WARNING: /workspace/src/c_api/c_api.cc:1511: Unknown file format: `xgb`. Using UBJSON (`ubj`) as a guess.\n",
      "  model.load_model(xgb_model_path)\n",
      "2025/10/23 21:25:06 INFO mlflow.models.model: Found the following environment variables used during model inference: [DATABRICKS_HOST, DATABRICKS_TOKEN]. Please check if you need to set them when deploying the model. To disable this message, set environment variable `MLFLOW_RECORD_ENV_VARS_IN_MODEL_LOGGING` to `false`.\n",
      "[I 2025-10-23 21:25:08,880] Trial 0 finished with value: 5.530333518981934 and parameters: {'max_depth': 40, 'learning_rate': 0.8625543817410922, 'reg_alpha': 0.12593061066249622, 'reg_lambda': 0.049454235173237264, 'min_child_weight': 0.6866535292359801}. Best is trial 0 with value: 5.530333518981934.\n"
     ]
    },
    {
     "name": "stdout",
     "output_type": "stream",
     "text": [
      "🏃 View run thoughtful-gnu-807 at: https://dbc-03802296-e2f6.cloud.databricks.com/ml/experiments/3962753005528092/runs/a7fe6117457746a594c31cba2d39ae13\n",
      "🧪 View experiment at: https://dbc-03802296-e2f6.cloud.databricks.com/ml/experiments/3962753005528092\n",
      "[0]\tvalidation-rmse:8.78545\n",
      "[1]\tvalidation-rmse:8.48231\n",
      "[2]\tvalidation-rmse:8.20381\n",
      "[3]\tvalidation-rmse:7.94875\n",
      "[4]\tvalidation-rmse:7.71546\n",
      "[5]\tvalidation-rmse:7.50285\n",
      "[6]\tvalidation-rmse:7.30884\n",
      "[7]\tvalidation-rmse:7.13210\n",
      "[8]\tvalidation-rmse:6.97156\n",
      "[9]\tvalidation-rmse:6.82518\n",
      "[10]\tvalidation-rmse:6.69288\n",
      "[11]\tvalidation-rmse:6.57310\n",
      "[12]\tvalidation-rmse:6.46433\n",
      "[13]\tvalidation-rmse:6.36676\n",
      "[14]\tvalidation-rmse:6.27804\n",
      "[15]\tvalidation-rmse:6.19811\n",
      "[16]\tvalidation-rmse:6.12594\n",
      "[17]\tvalidation-rmse:6.06081\n",
      "[18]\tvalidation-rmse:6.00146\n",
      "[19]\tvalidation-rmse:5.94837\n",
      "[20]\tvalidation-rmse:5.90055\n",
      "[21]\tvalidation-rmse:5.85766\n",
      "[22]\tvalidation-rmse:5.81854\n",
      "[23]\tvalidation-rmse:5.78373\n",
      "[24]\tvalidation-rmse:5.75230\n",
      "[25]\tvalidation-rmse:5.72422\n",
      "[26]\tvalidation-rmse:5.69841\n",
      "[27]\tvalidation-rmse:5.67525\n",
      "[28]\tvalidation-rmse:5.65480\n",
      "[29]\tvalidation-rmse:5.63609\n",
      "[30]\tvalidation-rmse:5.61917\n",
      "[31]\tvalidation-rmse:5.60397\n",
      "[32]\tvalidation-rmse:5.59022\n",
      "[33]\tvalidation-rmse:5.57787\n",
      "[34]\tvalidation-rmse:5.56660\n",
      "[35]\tvalidation-rmse:5.55614\n",
      "[36]\tvalidation-rmse:5.54604\n",
      "[37]\tvalidation-rmse:5.53707\n",
      "[38]\tvalidation-rmse:5.52873\n",
      "[39]\tvalidation-rmse:5.52167\n",
      "[40]\tvalidation-rmse:5.51515\n",
      "[41]\tvalidation-rmse:5.50928\n",
      "[42]\tvalidation-rmse:5.50377\n",
      "[43]\tvalidation-rmse:5.49893\n",
      "[44]\tvalidation-rmse:5.49433\n",
      "[45]\tvalidation-rmse:5.48921\n",
      "[46]\tvalidation-rmse:5.48549\n",
      "[47]\tvalidation-rmse:5.48157\n",
      "[48]\tvalidation-rmse:5.47813\n",
      "[49]\tvalidation-rmse:5.47415\n",
      "[50]\tvalidation-rmse:5.47114\n",
      "[51]\tvalidation-rmse:5.46794\n",
      "[52]\tvalidation-rmse:5.46523\n",
      "[53]\tvalidation-rmse:5.46267\n",
      "[54]\tvalidation-rmse:5.45982\n",
      "[55]\tvalidation-rmse:5.45709\n",
      "[56]\tvalidation-rmse:5.45476\n",
      "[57]\tvalidation-rmse:5.45261\n",
      "[58]\tvalidation-rmse:5.45065\n",
      "[59]\tvalidation-rmse:5.44908\n",
      "[60]\tvalidation-rmse:5.44693\n",
      "[61]\tvalidation-rmse:5.44518\n",
      "[62]\tvalidation-rmse:5.44363\n",
      "[63]\tvalidation-rmse:5.44202\n",
      "[64]\tvalidation-rmse:5.44061\n",
      "[65]\tvalidation-rmse:5.43914\n",
      "[66]\tvalidation-rmse:5.43812\n",
      "[67]\tvalidation-rmse:5.43663\n",
      "[68]\tvalidation-rmse:5.43512\n",
      "[69]\tvalidation-rmse:5.43413\n",
      "[70]\tvalidation-rmse:5.43265\n",
      "[71]\tvalidation-rmse:5.43126\n",
      "[72]\tvalidation-rmse:5.43018\n",
      "[73]\tvalidation-rmse:5.42927\n",
      "[74]\tvalidation-rmse:5.42809\n",
      "[75]\tvalidation-rmse:5.42705\n",
      "[76]\tvalidation-rmse:5.42627\n",
      "[77]\tvalidation-rmse:5.42544\n",
      "[78]\tvalidation-rmse:5.42445\n",
      "[79]\tvalidation-rmse:5.42359\n",
      "[80]\tvalidation-rmse:5.42272\n",
      "[81]\tvalidation-rmse:5.42158\n",
      "[82]\tvalidation-rmse:5.42107\n",
      "[83]\tvalidation-rmse:5.42045\n",
      "[84]\tvalidation-rmse:5.42008\n",
      "[85]\tvalidation-rmse:5.41913\n",
      "[86]\tvalidation-rmse:5.41876\n",
      "[87]\tvalidation-rmse:5.41821\n",
      "[88]\tvalidation-rmse:5.41784\n",
      "[89]\tvalidation-rmse:5.41752\n",
      "[90]\tvalidation-rmse:5.41651\n",
      "[91]\tvalidation-rmse:5.41562\n",
      "[92]\tvalidation-rmse:5.41546\n",
      "[93]\tvalidation-rmse:5.41478\n",
      "[94]\tvalidation-rmse:5.41421\n",
      "[95]\tvalidation-rmse:5.41385\n",
      "[96]\tvalidation-rmse:5.41350\n",
      "[97]\tvalidation-rmse:5.41242\n",
      "[98]\tvalidation-rmse:5.41200\n",
      "[99]\tvalidation-rmse:5.41168\n"
     ]
    },
    {
     "name": "stderr",
     "output_type": "stream",
     "text": [
      "/home/sofi/Documents/vscode/nyc-taxi-predictions/.venv/lib/python3.11/site-packages/mlflow/xgboost/__init__.py:169: UserWarning: [21:25:23] WARNING: /workspace/src/c_api/c_api.cc:1575: Saving model in the UBJSON format as default.  You can use a file extension: `json` or `ubj` to choose between formats.\n",
      "  xgb_model.save_model(model_data_path)\n",
      "2025/10/23 21:25:26 WARNING mlflow.utils.environment: Failed to resolve installed pip version. ``pip`` will be added to conda.yaml environment spec without a version specifier.\n",
      "/home/sofi/Documents/vscode/nyc-taxi-predictions/.venv/lib/python3.11/site-packages/mlflow/xgboost/__init__.py:321: UserWarning: [21:25:26] WARNING: /workspace/src/c_api/c_api.cc:1511: Unknown file format: `xgb`. Using UBJSON (`ubj`) as a guess.\n",
      "  model.load_model(xgb_model_path)\n",
      "[I 2025-10-23 21:25:32,292] Trial 1 finished with value: 5.411676406860352 and parameters: {'max_depth': 19, 'learning_rate': 0.059264241587996896, 'reg_alpha': 0.21539205131792016, 'reg_lambda': 0.05006540936006931, 'min_child_weight': 6.248180561354165}. Best is trial 1 with value: 5.411676406860352.\n"
     ]
    },
    {
     "name": "stdout",
     "output_type": "stream",
     "text": [
      "🏃 View run clumsy-shad-911 at: https://dbc-03802296-e2f6.cloud.databricks.com/ml/experiments/3962753005528092/runs/aaf202cc21664684b2e8a4edef2b2ca7\n",
      "🧪 View experiment at: https://dbc-03802296-e2f6.cloud.databricks.com/ml/experiments/3962753005528092\n",
      "[0]\tvalidation-rmse:5.85284\n",
      "[1]\tvalidation-rmse:5.74153\n",
      "[2]\tvalidation-rmse:5.72191\n",
      "[3]\tvalidation-rmse:5.71815\n",
      "[4]\tvalidation-rmse:5.70875\n",
      "[5]\tvalidation-rmse:5.69156\n",
      "[6]\tvalidation-rmse:5.69268\n",
      "[7]\tvalidation-rmse:5.68229\n",
      "[8]\tvalidation-rmse:5.68117\n",
      "[9]\tvalidation-rmse:5.67906\n",
      "[10]\tvalidation-rmse:5.68228\n",
      "[11]\tvalidation-rmse:5.67907\n",
      "[12]\tvalidation-rmse:5.67993\n",
      "[13]\tvalidation-rmse:5.66435\n",
      "[14]\tvalidation-rmse:5.65793\n",
      "[15]\tvalidation-rmse:5.65795\n",
      "[16]\tvalidation-rmse:5.65432\n",
      "[17]\tvalidation-rmse:5.65379\n",
      "[18]\tvalidation-rmse:5.65003\n",
      "[19]\tvalidation-rmse:5.65146\n",
      "[20]\tvalidation-rmse:5.64805\n",
      "[21]\tvalidation-rmse:5.64348\n",
      "[22]\tvalidation-rmse:5.64541\n",
      "[23]\tvalidation-rmse:5.64543\n",
      "[24]\tvalidation-rmse:5.63990\n",
      "[25]\tvalidation-rmse:5.64013\n",
      "[26]\tvalidation-rmse:5.64709\n",
      "[27]\tvalidation-rmse:5.64847\n",
      "[28]\tvalidation-rmse:5.64857\n",
      "[29]\tvalidation-rmse:5.64886\n",
      "[30]\tvalidation-rmse:5.64465\n",
      "[31]\tvalidation-rmse:5.64297\n",
      "[32]\tvalidation-rmse:5.64307\n",
      "[33]\tvalidation-rmse:5.64133\n",
      "[34]\tvalidation-rmse:5.63613\n",
      "[35]\tvalidation-rmse:5.63735\n",
      "[36]\tvalidation-rmse:5.63575\n",
      "[37]\tvalidation-rmse:5.63125\n",
      "[38]\tvalidation-rmse:5.62718\n",
      "[39]\tvalidation-rmse:5.62443\n",
      "[40]\tvalidation-rmse:5.62482\n",
      "[41]\tvalidation-rmse:5.62210\n",
      "[42]\tvalidation-rmse:5.62648\n",
      "[43]\tvalidation-rmse:5.62925\n",
      "[44]\tvalidation-rmse:5.62794\n",
      "[45]\tvalidation-rmse:5.62803\n",
      "[46]\tvalidation-rmse:5.62813\n",
      "[47]\tvalidation-rmse:5.63107\n",
      "[48]\tvalidation-rmse:5.62779\n",
      "[49]\tvalidation-rmse:5.62790\n",
      "[50]\tvalidation-rmse:5.62735\n"
     ]
    },
    {
     "name": "stderr",
     "output_type": "stream",
     "text": [
      "/home/sofi/Documents/vscode/nyc-taxi-predictions/.venv/lib/python3.11/site-packages/mlflow/xgboost/__init__.py:169: UserWarning: [21:25:40] WARNING: /workspace/src/c_api/c_api.cc:1575: Saving model in the UBJSON format as default.  You can use a file extension: `json` or `ubj` to choose between formats.\n",
      "  xgb_model.save_model(model_data_path)\n",
      "2025/10/23 21:25:43 WARNING mlflow.utils.environment: Failed to resolve installed pip version. ``pip`` will be added to conda.yaml environment spec without a version specifier.\n",
      "/home/sofi/Documents/vscode/nyc-taxi-predictions/.venv/lib/python3.11/site-packages/mlflow/xgboost/__init__.py:321: UserWarning: [21:25:43] WARNING: /workspace/src/c_api/c_api.cc:1511: Unknown file format: `xgb`. Using UBJSON (`ubj`) as a guess.\n",
      "  model.load_model(xgb_model_path)\n",
      "[I 2025-10-23 21:25:45,083] Trial 2 finished with value: 5.627442359924316 and parameters: {'max_depth': 5, 'learning_rate': 0.9136840519292247, 'reg_alpha': 0.18820387978911576, 'reg_lambda': 0.007166739666045858, 'min_child_weight': 0.7613210498541186}. Best is trial 1 with value: 5.411676406860352.\n"
     ]
    },
    {
     "name": "stdout",
     "output_type": "stream",
     "text": [
      "🏃 View run orderly-fawn-976 at: https://dbc-03802296-e2f6.cloud.databricks.com/ml/experiments/3962753005528092/runs/9aab21c533f94b59a48e9b24dbe4641c\n",
      "🧪 View experiment at: https://dbc-03802296-e2f6.cloud.databricks.com/ml/experiments/3962753005528092\n",
      "[0]\tvalidation-rmse:8.43062\n",
      "[1]\tvalidation-rmse:7.86480\n",
      "[2]\tvalidation-rmse:7.40080\n",
      "[3]\tvalidation-rmse:7.01964\n",
      "[4]\tvalidation-rmse:6.71097\n",
      "[5]\tvalidation-rmse:6.45949\n",
      "[6]\tvalidation-rmse:6.25872\n",
      "[7]\tvalidation-rmse:6.09855\n",
      "[8]\tvalidation-rmse:5.96924\n",
      "[9]\tvalidation-rmse:5.86577\n",
      "[10]\tvalidation-rmse:5.78101\n",
      "[11]\tvalidation-rmse:5.71375\n",
      "[12]\tvalidation-rmse:5.66051\n",
      "[13]\tvalidation-rmse:5.61409\n",
      "[14]\tvalidation-rmse:5.57951\n",
      "[15]\tvalidation-rmse:5.55150\n",
      "[16]\tvalidation-rmse:5.52699\n",
      "[17]\tvalidation-rmse:5.50770\n",
      "[18]\tvalidation-rmse:5.48937\n",
      "[19]\tvalidation-rmse:5.47562\n",
      "[20]\tvalidation-rmse:5.46385\n",
      "[21]\tvalidation-rmse:5.45381\n",
      "[22]\tvalidation-rmse:5.44558\n",
      "[23]\tvalidation-rmse:5.43793\n",
      "[24]\tvalidation-rmse:5.43060\n",
      "[25]\tvalidation-rmse:5.42614\n",
      "[26]\tvalidation-rmse:5.42130\n",
      "[27]\tvalidation-rmse:5.41899\n",
      "[28]\tvalidation-rmse:5.41588\n",
      "[29]\tvalidation-rmse:5.41447\n",
      "[30]\tvalidation-rmse:5.41154\n",
      "[31]\tvalidation-rmse:5.41019\n",
      "[32]\tvalidation-rmse:5.40917\n",
      "[33]\tvalidation-rmse:5.40720\n",
      "[34]\tvalidation-rmse:5.40598\n",
      "[35]\tvalidation-rmse:5.40529\n",
      "[36]\tvalidation-rmse:5.40431\n",
      "[37]\tvalidation-rmse:5.40391\n",
      "[38]\tvalidation-rmse:5.40302\n",
      "[39]\tvalidation-rmse:5.40248\n",
      "[40]\tvalidation-rmse:5.40205\n",
      "[41]\tvalidation-rmse:5.40080\n",
      "[42]\tvalidation-rmse:5.39974\n",
      "[43]\tvalidation-rmse:5.39880\n",
      "[44]\tvalidation-rmse:5.39820\n",
      "[45]\tvalidation-rmse:5.39801\n",
      "[46]\tvalidation-rmse:5.39596\n",
      "[47]\tvalidation-rmse:5.39449\n",
      "[48]\tvalidation-rmse:5.39423\n",
      "[49]\tvalidation-rmse:5.39321\n",
      "[50]\tvalidation-rmse:5.39282\n",
      "[51]\tvalidation-rmse:5.39269\n",
      "[52]\tvalidation-rmse:5.39206\n",
      "[53]\tvalidation-rmse:5.39178\n",
      "[54]\tvalidation-rmse:5.39125\n",
      "[55]\tvalidation-rmse:5.39001\n",
      "[56]\tvalidation-rmse:5.38934\n",
      "[57]\tvalidation-rmse:5.38889\n",
      "[58]\tvalidation-rmse:5.38893\n",
      "[59]\tvalidation-rmse:5.38820\n",
      "[60]\tvalidation-rmse:5.38756\n",
      "[61]\tvalidation-rmse:5.38692\n",
      "[62]\tvalidation-rmse:5.38653\n",
      "[63]\tvalidation-rmse:5.38556\n",
      "[64]\tvalidation-rmse:5.38538\n",
      "[65]\tvalidation-rmse:5.38498\n",
      "[66]\tvalidation-rmse:5.38440\n",
      "[67]\tvalidation-rmse:5.38397\n",
      "[68]\tvalidation-rmse:5.38405\n",
      "[69]\tvalidation-rmse:5.38354\n",
      "[70]\tvalidation-rmse:5.38307\n",
      "[71]\tvalidation-rmse:5.38251\n",
      "[72]\tvalidation-rmse:5.38196\n",
      "[73]\tvalidation-rmse:5.38197\n",
      "[74]\tvalidation-rmse:5.38161\n",
      "[75]\tvalidation-rmse:5.37896\n",
      "[76]\tvalidation-rmse:5.37907\n",
      "[77]\tvalidation-rmse:5.37918\n",
      "[78]\tvalidation-rmse:5.37850\n",
      "[79]\tvalidation-rmse:5.37776\n",
      "[80]\tvalidation-rmse:5.37767\n",
      "[81]\tvalidation-rmse:5.37712\n",
      "[82]\tvalidation-rmse:5.37701\n",
      "[83]\tvalidation-rmse:5.37620\n",
      "[84]\tvalidation-rmse:5.37623\n",
      "[85]\tvalidation-rmse:5.37589\n",
      "[86]\tvalidation-rmse:5.37570\n",
      "[87]\tvalidation-rmse:5.37443\n",
      "[88]\tvalidation-rmse:5.37441\n",
      "[89]\tvalidation-rmse:5.37412\n",
      "[90]\tvalidation-rmse:5.37380\n",
      "[91]\tvalidation-rmse:5.37318\n",
      "[92]\tvalidation-rmse:5.37299\n",
      "[93]\tvalidation-rmse:5.37286\n",
      "[94]\tvalidation-rmse:5.37258\n",
      "[95]\tvalidation-rmse:5.37219\n",
      "[96]\tvalidation-rmse:5.37180\n",
      "[97]\tvalidation-rmse:5.37181\n",
      "[98]\tvalidation-rmse:5.36984\n",
      "[99]\tvalidation-rmse:5.36843\n"
     ]
    },
    {
     "name": "stderr",
     "output_type": "stream",
     "text": [
      "/home/sofi/Documents/vscode/nyc-taxi-predictions/.venv/lib/python3.11/site-packages/mlflow/xgboost/__init__.py:169: UserWarning: [21:26:03] WARNING: /workspace/src/c_api/c_api.cc:1575: Saving model in the UBJSON format as default.  You can use a file extension: `json` or `ubj` to choose between formats.\n",
      "  xgb_model.save_model(model_data_path)\n",
      "2025/10/23 21:26:06 WARNING mlflow.utils.environment: Failed to resolve installed pip version. ``pip`` will be added to conda.yaml environment spec without a version specifier.\n",
      "/home/sofi/Documents/vscode/nyc-taxi-predictions/.venv/lib/python3.11/site-packages/mlflow/xgboost/__init__.py:321: UserWarning: [21:26:06] WARNING: /workspace/src/c_api/c_api.cc:1511: Unknown file format: `xgb`. Using UBJSON (`ubj`) as a guess.\n",
      "  model.load_model(xgb_model_path)\n",
      "[I 2025-10-23 21:26:08,058] Trial 3 finished with value: 5.368428707122803 and parameters: {'max_depth': 21, 'learning_rate': 0.12402485733085497, 'reg_alpha': 0.054969638498598095, 'reg_lambda': 0.02148769342025257, 'min_child_weight': 1.1792947151892554}. Best is trial 3 with value: 5.368428707122803.\n"
     ]
    },
    {
     "name": "stdout",
     "output_type": "stream",
     "text": [
      "🏃 View run ambitious-rook-131 at: https://dbc-03802296-e2f6.cloud.databricks.com/ml/experiments/3962753005528092/runs/07e44b127dc44e5e92a0a45365453232\n",
      "🧪 View experiment at: https://dbc-03802296-e2f6.cloud.databricks.com/ml/experiments/3962753005528092\n",
      "[0]\tvalidation-rmse:8.67773\n",
      "[1]\tvalidation-rmse:8.28559\n",
      "[2]\tvalidation-rmse:7.93525\n",
      "[3]\tvalidation-rmse:7.62306\n",
      "[4]\tvalidation-rmse:7.34544\n",
      "[5]\tvalidation-rmse:7.09909\n",
      "[6]\tvalidation-rmse:6.88057\n",
      "[7]\tvalidation-rmse:6.68879\n",
      "[8]\tvalidation-rmse:6.52039\n",
      "[9]\tvalidation-rmse:6.37274\n",
      "[10]\tvalidation-rmse:6.24296\n",
      "[11]\tvalidation-rmse:6.12967\n",
      "[12]\tvalidation-rmse:6.03055\n",
      "[13]\tvalidation-rmse:5.94407\n",
      "[14]\tvalidation-rmse:5.86815\n",
      "[15]\tvalidation-rmse:5.80252\n",
      "[16]\tvalidation-rmse:5.74580\n",
      "[17]\tvalidation-rmse:5.69646\n",
      "[18]\tvalidation-rmse:5.65399\n",
      "[19]\tvalidation-rmse:5.61702\n",
      "[20]\tvalidation-rmse:5.58592\n",
      "[21]\tvalidation-rmse:5.55833\n",
      "[22]\tvalidation-rmse:5.53410\n",
      "[23]\tvalidation-rmse:5.51314\n",
      "[24]\tvalidation-rmse:5.49465\n",
      "[25]\tvalidation-rmse:5.47910\n",
      "[26]\tvalidation-rmse:5.46558\n",
      "[27]\tvalidation-rmse:5.45397\n",
      "[28]\tvalidation-rmse:5.44378\n",
      "[29]\tvalidation-rmse:5.43477\n",
      "[30]\tvalidation-rmse:5.42699\n",
      "[31]\tvalidation-rmse:5.42010\n",
      "[32]\tvalidation-rmse:5.41416\n",
      "[33]\tvalidation-rmse:5.40845\n",
      "[34]\tvalidation-rmse:5.40351\n",
      "[35]\tvalidation-rmse:5.39833\n",
      "[36]\tvalidation-rmse:5.39447\n",
      "[37]\tvalidation-rmse:5.39138\n",
      "[38]\tvalidation-rmse:5.38833\n",
      "[39]\tvalidation-rmse:5.38540\n",
      "[40]\tvalidation-rmse:5.38236\n",
      "[41]\tvalidation-rmse:5.37933\n",
      "[42]\tvalidation-rmse:5.37707\n",
      "[43]\tvalidation-rmse:5.37476\n",
      "[44]\tvalidation-rmse:5.37276\n",
      "[45]\tvalidation-rmse:5.37106\n",
      "[46]\tvalidation-rmse:5.36946\n",
      "[47]\tvalidation-rmse:5.36858\n",
      "[48]\tvalidation-rmse:5.36772\n",
      "[49]\tvalidation-rmse:5.36648\n",
      "[50]\tvalidation-rmse:5.36584\n",
      "[51]\tvalidation-rmse:5.36528\n",
      "[52]\tvalidation-rmse:5.36479\n",
      "[53]\tvalidation-rmse:5.36403\n",
      "[54]\tvalidation-rmse:5.36384\n",
      "[55]\tvalidation-rmse:5.36374\n",
      "[56]\tvalidation-rmse:5.36355\n",
      "[57]\tvalidation-rmse:5.36317\n",
      "[58]\tvalidation-rmse:5.36258\n",
      "[59]\tvalidation-rmse:5.36226\n",
      "[60]\tvalidation-rmse:5.36223\n",
      "[61]\tvalidation-rmse:5.36165\n",
      "[62]\tvalidation-rmse:5.36129\n",
      "[63]\tvalidation-rmse:5.36096\n",
      "[64]\tvalidation-rmse:5.36021\n",
      "[65]\tvalidation-rmse:5.36013\n",
      "[66]\tvalidation-rmse:5.35981\n",
      "[67]\tvalidation-rmse:5.35979\n",
      "[68]\tvalidation-rmse:5.35939\n",
      "[69]\tvalidation-rmse:5.35911\n",
      "[70]\tvalidation-rmse:5.35903\n",
      "[71]\tvalidation-rmse:5.35870\n",
      "[72]\tvalidation-rmse:5.35871\n",
      "[73]\tvalidation-rmse:5.35853\n",
      "[74]\tvalidation-rmse:5.35761\n",
      "[75]\tvalidation-rmse:5.35751\n",
      "[76]\tvalidation-rmse:5.35740\n",
      "[77]\tvalidation-rmse:5.35732\n",
      "[78]\tvalidation-rmse:5.35730\n",
      "[79]\tvalidation-rmse:5.35664\n",
      "[80]\tvalidation-rmse:5.35673\n",
      "[81]\tvalidation-rmse:5.35655\n",
      "[82]\tvalidation-rmse:5.35612\n",
      "[83]\tvalidation-rmse:5.35614\n",
      "[84]\tvalidation-rmse:5.35597\n",
      "[85]\tvalidation-rmse:5.35594\n",
      "[86]\tvalidation-rmse:5.35576\n",
      "[87]\tvalidation-rmse:5.35585\n",
      "[88]\tvalidation-rmse:5.35547\n",
      "[89]\tvalidation-rmse:5.35544\n",
      "[90]\tvalidation-rmse:5.35511\n",
      "[91]\tvalidation-rmse:5.35492\n",
      "[92]\tvalidation-rmse:5.35454\n",
      "[93]\tvalidation-rmse:5.35449\n",
      "[94]\tvalidation-rmse:5.35453\n",
      "[95]\tvalidation-rmse:5.35434\n",
      "[96]\tvalidation-rmse:5.35422\n",
      "[97]\tvalidation-rmse:5.35396\n",
      "[98]\tvalidation-rmse:5.35399\n",
      "[99]\tvalidation-rmse:5.35406\n"
     ]
    },
    {
     "name": "stderr",
     "output_type": "stream",
     "text": [
      "/home/sofi/Documents/vscode/nyc-taxi-predictions/.venv/lib/python3.11/site-packages/mlflow/xgboost/__init__.py:169: UserWarning: [21:27:19] WARNING: /workspace/src/c_api/c_api.cc:1575: Saving model in the UBJSON format as default.  You can use a file extension: `json` or `ubj` to choose between formats.\n",
      "  xgb_model.save_model(model_data_path)\n",
      "2025/10/23 21:27:23 WARNING mlflow.utils.environment: Failed to resolve installed pip version. ``pip`` will be added to conda.yaml environment spec without a version specifier.\n",
      "/home/sofi/Documents/vscode/nyc-taxi-predictions/.venv/lib/python3.11/site-packages/mlflow/xgboost/__init__.py:321: UserWarning: [21:27:23] WARNING: /workspace/src/c_api/c_api.cc:1511: Unknown file format: `xgb`. Using UBJSON (`ubj`) as a guess.\n",
      "  model.load_model(xgb_model_path)\n",
      "[I 2025-10-23 21:27:27,180] Trial 4 finished with value: 5.354063510894775 and parameters: {'max_depth': 63, 'learning_rate': 0.07565903471570516, 'reg_alpha': 0.021678779375600917, 'reg_lambda': 0.015480241912324163, 'min_child_weight': 2.2802382585441565}. Best is trial 4 with value: 5.354063510894775.\n"
     ]
    },
    {
     "name": "stdout",
     "output_type": "stream",
     "text": [
      "🏃 View run carefree-auk-702 at: https://dbc-03802296-e2f6.cloud.databricks.com/ml/experiments/3962753005528092/runs/7b53d5f6b81f4bb1841b4ff04bf3757c\n",
      "🧪 View experiment at: https://dbc-03802296-e2f6.cloud.databricks.com/ml/experiments/3962753005528092\n",
      "[0]\tvalidation-rmse:8.59758\n",
      "[1]\tvalidation-rmse:8.14813\n",
      "[2]\tvalidation-rmse:7.76409\n",
      "[3]\tvalidation-rmse:7.42131\n",
      "[4]\tvalidation-rmse:7.13737\n",
      "[5]\tvalidation-rmse:6.87898\n",
      "[6]\tvalidation-rmse:6.67518\n",
      "[7]\tvalidation-rmse:6.49377\n",
      "[8]\tvalidation-rmse:6.34135\n",
      "[9]\tvalidation-rmse:6.21602\n",
      "[10]\tvalidation-rmse:6.09792\n",
      "[11]\tvalidation-rmse:6.00785\n",
      "[12]\tvalidation-rmse:5.93015\n",
      "[13]\tvalidation-rmse:5.85688\n",
      "[14]\tvalidation-rmse:5.80358\n",
      "[15]\tvalidation-rmse:5.75459\n",
      "[16]\tvalidation-rmse:5.71567\n",
      "[17]\tvalidation-rmse:5.67958\n",
      "[18]\tvalidation-rmse:5.65087\n",
      "[19]\tvalidation-rmse:5.63134\n",
      "[20]\tvalidation-rmse:5.60976\n",
      "[21]\tvalidation-rmse:5.59042\n",
      "[22]\tvalidation-rmse:5.57561\n",
      "[23]\tvalidation-rmse:5.56327\n",
      "[24]\tvalidation-rmse:5.55452\n",
      "[25]\tvalidation-rmse:5.54581\n",
      "[26]\tvalidation-rmse:5.53498\n",
      "[27]\tvalidation-rmse:5.52871\n",
      "[28]\tvalidation-rmse:5.52402\n",
      "[29]\tvalidation-rmse:5.51960\n",
      "[30]\tvalidation-rmse:5.51672\n",
      "[31]\tvalidation-rmse:5.51210\n",
      "[32]\tvalidation-rmse:5.51015\n",
      "[33]\tvalidation-rmse:5.50501\n",
      "[34]\tvalidation-rmse:5.50449\n",
      "[35]\tvalidation-rmse:5.50408\n",
      "[36]\tvalidation-rmse:5.49997\n",
      "[37]\tvalidation-rmse:5.49901\n",
      "[38]\tvalidation-rmse:5.49646\n",
      "[39]\tvalidation-rmse:5.49568\n",
      "[40]\tvalidation-rmse:5.49402\n",
      "[41]\tvalidation-rmse:5.49298\n",
      "[42]\tvalidation-rmse:5.49195\n",
      "[43]\tvalidation-rmse:5.49122\n",
      "[44]\tvalidation-rmse:5.49017\n",
      "[45]\tvalidation-rmse:5.48928\n",
      "[46]\tvalidation-rmse:5.48803\n",
      "[47]\tvalidation-rmse:5.48718\n",
      "[48]\tvalidation-rmse:5.48671\n",
      "[49]\tvalidation-rmse:5.48619\n",
      "[50]\tvalidation-rmse:5.48626\n",
      "[51]\tvalidation-rmse:5.48564\n",
      "[52]\tvalidation-rmse:5.48566\n",
      "[53]\tvalidation-rmse:5.48469\n",
      "[54]\tvalidation-rmse:5.48435\n",
      "[55]\tvalidation-rmse:5.48330\n",
      "[56]\tvalidation-rmse:5.48332\n",
      "[57]\tvalidation-rmse:5.48287\n",
      "[58]\tvalidation-rmse:5.48301\n",
      "[59]\tvalidation-rmse:5.48302\n",
      "[60]\tvalidation-rmse:5.48260\n",
      "[61]\tvalidation-rmse:5.48245\n",
      "[62]\tvalidation-rmse:5.48120\n",
      "[63]\tvalidation-rmse:5.48101\n",
      "[64]\tvalidation-rmse:5.48012\n",
      "[65]\tvalidation-rmse:5.48030\n",
      "[66]\tvalidation-rmse:5.48068\n",
      "[67]\tvalidation-rmse:5.48112\n",
      "[68]\tvalidation-rmse:5.48084\n",
      "[69]\tvalidation-rmse:5.48021\n",
      "[70]\tvalidation-rmse:5.47956\n",
      "[71]\tvalidation-rmse:5.47955\n",
      "[72]\tvalidation-rmse:5.47961\n",
      "[73]\tvalidation-rmse:5.47902\n",
      "[74]\tvalidation-rmse:5.47914\n",
      "[75]\tvalidation-rmse:5.47931\n",
      "[76]\tvalidation-rmse:5.47970\n",
      "[77]\tvalidation-rmse:5.47905\n",
      "[78]\tvalidation-rmse:5.47904\n",
      "[79]\tvalidation-rmse:5.47868\n",
      "[80]\tvalidation-rmse:5.47864\n",
      "[81]\tvalidation-rmse:5.47891\n",
      "[82]\tvalidation-rmse:5.47907\n",
      "[83]\tvalidation-rmse:5.47910\n",
      "[84]\tvalidation-rmse:5.47935\n",
      "[85]\tvalidation-rmse:5.47936\n",
      "[86]\tvalidation-rmse:5.47820\n",
      "[87]\tvalidation-rmse:5.47816\n",
      "[88]\tvalidation-rmse:5.47834\n",
      "[89]\tvalidation-rmse:5.47793\n",
      "[90]\tvalidation-rmse:5.47793\n",
      "[91]\tvalidation-rmse:5.47806\n",
      "[92]\tvalidation-rmse:5.47778\n",
      "[93]\tvalidation-rmse:5.47797\n",
      "[94]\tvalidation-rmse:5.47757\n",
      "[95]\tvalidation-rmse:5.47792\n",
      "[96]\tvalidation-rmse:5.47827\n",
      "[97]\tvalidation-rmse:5.47850\n",
      "[98]\tvalidation-rmse:5.47880\n",
      "[99]\tvalidation-rmse:5.47862\n"
     ]
    },
    {
     "name": "stderr",
     "output_type": "stream",
     "text": [
      "/home/sofi/Documents/vscode/nyc-taxi-predictions/.venv/lib/python3.11/site-packages/mlflow/xgboost/__init__.py:169: UserWarning: [21:29:12] WARNING: /workspace/src/c_api/c_api.cc:1575: Saving model in the UBJSON format as default.  You can use a file extension: `json` or `ubj` to choose between formats.\n",
      "  xgb_model.save_model(model_data_path)\n",
      "2025/10/23 21:29:16 WARNING mlflow.utils.environment: Failed to resolve installed pip version. ``pip`` will be added to conda.yaml environment spec without a version specifier.\n",
      "/home/sofi/Documents/vscode/nyc-taxi-predictions/.venv/lib/python3.11/site-packages/mlflow/xgboost/__init__.py:321: UserWarning: [21:29:16] WARNING: /workspace/src/c_api/c_api.cc:1511: Unknown file format: `xgb`. Using UBJSON (`ubj`) as a guess.\n",
      "  model.load_model(xgb_model_path)\n",
      "[I 2025-10-23 21:29:21,698] Trial 5 finished with value: 5.478622913360596 and parameters: {'max_depth': 80, 'learning_rate': 0.0906292152736207, 'reg_alpha': 0.05270408847118816, 'reg_lambda': 0.04793414660944966, 'min_child_weight': 0.4429943118354462}. Best is trial 4 with value: 5.354063510894775.\n"
     ]
    },
    {
     "name": "stdout",
     "output_type": "stream",
     "text": [
      "🏃 View run charming-elk-264 at: https://dbc-03802296-e2f6.cloud.databricks.com/ml/experiments/3962753005528092/runs/40396b4612e549858361b8a63dd44427\n",
      "🧪 View experiment at: https://dbc-03802296-e2f6.cloud.databricks.com/ml/experiments/3962753005528092\n",
      "[0]\tvalidation-rmse:8.66710\n",
      "[1]\tvalidation-rmse:8.27068\n",
      "[2]\tvalidation-rmse:7.92063\n",
      "[3]\tvalidation-rmse:7.61250\n",
      "[4]\tvalidation-rmse:7.34223\n",
      "[5]\tvalidation-rmse:7.10618\n",
      "[6]\tvalidation-rmse:6.90005\n",
      "[7]\tvalidation-rmse:6.72107\n",
      "[8]\tvalidation-rmse:6.56568\n",
      "[9]\tvalidation-rmse:6.43133\n",
      "[10]\tvalidation-rmse:6.31471\n",
      "[11]\tvalidation-rmse:6.21426\n",
      "[12]\tvalidation-rmse:6.12804\n",
      "[13]\tvalidation-rmse:6.05348\n",
      "[14]\tvalidation-rmse:5.98960\n",
      "[15]\tvalidation-rmse:5.93435\n",
      "[16]\tvalidation-rmse:5.88727\n",
      "[17]\tvalidation-rmse:5.84625\n",
      "[18]\tvalidation-rmse:5.81111\n",
      "[19]\tvalidation-rmse:5.78005\n",
      "[20]\tvalidation-rmse:5.75243\n",
      "[21]\tvalidation-rmse:5.72872\n",
      "[22]\tvalidation-rmse:5.70817\n",
      "[23]\tvalidation-rmse:5.69071\n",
      "[24]\tvalidation-rmse:5.67579\n",
      "[25]\tvalidation-rmse:5.66220\n",
      "[26]\tvalidation-rmse:5.64872\n",
      "[27]\tvalidation-rmse:5.63639\n",
      "[28]\tvalidation-rmse:5.62620\n",
      "[29]\tvalidation-rmse:5.61709\n",
      "[30]\tvalidation-rmse:5.60882\n",
      "[31]\tvalidation-rmse:5.60154\n",
      "[32]\tvalidation-rmse:5.59470\n",
      "[33]\tvalidation-rmse:5.58889\n",
      "[34]\tvalidation-rmse:5.58348\n",
      "[35]\tvalidation-rmse:5.57922\n",
      "[36]\tvalidation-rmse:5.57532\n",
      "[37]\tvalidation-rmse:5.57163\n",
      "[38]\tvalidation-rmse:5.56800\n",
      "[39]\tvalidation-rmse:5.56430\n",
      "[40]\tvalidation-rmse:5.55973\n",
      "[41]\tvalidation-rmse:5.55704\n",
      "[42]\tvalidation-rmse:5.55419\n",
      "[43]\tvalidation-rmse:5.55220\n",
      "[44]\tvalidation-rmse:5.54942\n",
      "[45]\tvalidation-rmse:5.54776\n",
      "[46]\tvalidation-rmse:5.54446\n",
      "[47]\tvalidation-rmse:5.54184\n",
      "[48]\tvalidation-rmse:5.53953\n",
      "[49]\tvalidation-rmse:5.53778\n",
      "[50]\tvalidation-rmse:5.53613\n",
      "[51]\tvalidation-rmse:5.53462\n",
      "[52]\tvalidation-rmse:5.53379\n",
      "[53]\tvalidation-rmse:5.53221\n",
      "[54]\tvalidation-rmse:5.52976\n",
      "[55]\tvalidation-rmse:5.52706\n",
      "[56]\tvalidation-rmse:5.52474\n",
      "[57]\tvalidation-rmse:5.52309\n",
      "[58]\tvalidation-rmse:5.51968\n",
      "[59]\tvalidation-rmse:5.51683\n",
      "[60]\tvalidation-rmse:5.51574\n",
      "[61]\tvalidation-rmse:5.51350\n",
      "[62]\tvalidation-rmse:5.51268\n",
      "[63]\tvalidation-rmse:5.51204\n",
      "[64]\tvalidation-rmse:5.51013\n",
      "[65]\tvalidation-rmse:5.50941\n",
      "[66]\tvalidation-rmse:5.50892\n",
      "[67]\tvalidation-rmse:5.50719\n",
      "[68]\tvalidation-rmse:5.50660\n",
      "[69]\tvalidation-rmse:5.50632\n",
      "[70]\tvalidation-rmse:5.50487\n",
      "[71]\tvalidation-rmse:5.50440\n",
      "[72]\tvalidation-rmse:5.50321\n",
      "[73]\tvalidation-rmse:5.50288\n",
      "[74]\tvalidation-rmse:5.50256\n",
      "[75]\tvalidation-rmse:5.50156\n",
      "[76]\tvalidation-rmse:5.50132\n",
      "[77]\tvalidation-rmse:5.50103\n",
      "[78]\tvalidation-rmse:5.50024\n",
      "[79]\tvalidation-rmse:5.49968\n",
      "[80]\tvalidation-rmse:5.49952\n",
      "[81]\tvalidation-rmse:5.49896\n",
      "[82]\tvalidation-rmse:5.49864\n",
      "[83]\tvalidation-rmse:5.49838\n",
      "[84]\tvalidation-rmse:5.49744\n",
      "[85]\tvalidation-rmse:5.49701\n",
      "[86]\tvalidation-rmse:5.49669\n",
      "[87]\tvalidation-rmse:5.49608\n",
      "[88]\tvalidation-rmse:5.49589\n",
      "[89]\tvalidation-rmse:5.49567\n",
      "[90]\tvalidation-rmse:5.49500\n",
      "[91]\tvalidation-rmse:5.49485\n",
      "[92]\tvalidation-rmse:5.49456\n",
      "[93]\tvalidation-rmse:5.49403\n",
      "[94]\tvalidation-rmse:5.49391\n",
      "[95]\tvalidation-rmse:5.49373\n",
      "[96]\tvalidation-rmse:5.49325\n",
      "[97]\tvalidation-rmse:5.49297\n",
      "[98]\tvalidation-rmse:5.49290\n",
      "[99]\tvalidation-rmse:5.49241\n"
     ]
    },
    {
     "name": "stderr",
     "output_type": "stream",
     "text": [
      "/home/sofi/Documents/vscode/nyc-taxi-predictions/.venv/lib/python3.11/site-packages/mlflow/xgboost/__init__.py:169: UserWarning: [21:29:52] WARNING: /workspace/src/c_api/c_api.cc:1575: Saving model in the UBJSON format as default.  You can use a file extension: `json` or `ubj` to choose between formats.\n",
      "  xgb_model.save_model(model_data_path)\n",
      "2025/10/23 21:29:56 WARNING mlflow.utils.environment: Failed to resolve installed pip version. ``pip`` will be added to conda.yaml environment spec without a version specifier.\n",
      "/home/sofi/Documents/vscode/nyc-taxi-predictions/.venv/lib/python3.11/site-packages/mlflow/xgboost/__init__.py:321: UserWarning: [21:29:56] WARNING: /workspace/src/c_api/c_api.cc:1511: Unknown file format: `xgb`. Using UBJSON (`ubj`) as a guess.\n",
      "  model.load_model(xgb_model_path)\n"
     ]
    },
    {
     "name": "stdout",
     "output_type": "stream",
     "text": [
      "🏃 View run lyrical-ram-27 at: https://dbc-03802296-e2f6.cloud.databricks.com/ml/experiments/3962753005528092/runs/6592dde55d454abab1d5e86716162fcf\n",
      "🧪 View experiment at: https://dbc-03802296-e2f6.cloud.databricks.com/ml/experiments/3962753005528092\n"
     ]
    },
    {
     "name": "stderr",
     "output_type": "stream",
     "text": [
      "[I 2025-10-23 21:30:01,166] Trial 6 finished with value: 5.492410659790039 and parameters: {'max_depth': 62, 'learning_rate': 0.08304043435235499, 'reg_alpha': 0.008740449782948887, 'reg_lambda': 0.28491274207986833, 'min_child_weight': 17.505727836123448}. Best is trial 4 with value: 5.354063510894775.\n"
     ]
    },
    {
     "name": "stdout",
     "output_type": "stream",
     "text": [
      "[0]\tvalidation-rmse:8.40400\n",
      "[1]\tvalidation-rmse:7.81407\n",
      "[2]\tvalidation-rmse:7.32968\n",
      "[3]\tvalidation-rmse:6.93360\n",
      "[4]\tvalidation-rmse:6.61360\n",
      "[5]\tvalidation-rmse:6.35591\n",
      "[6]\tvalidation-rmse:6.14981\n",
      "[7]\tvalidation-rmse:5.98496\n",
      "[8]\tvalidation-rmse:5.85496\n",
      "[9]\tvalidation-rmse:5.75267\n",
      "[10]\tvalidation-rmse:5.67211\n",
      "[11]\tvalidation-rmse:5.61064\n",
      "[12]\tvalidation-rmse:5.56253\n",
      "[13]\tvalidation-rmse:5.52496\n",
      "[14]\tvalidation-rmse:5.49490\n",
      "[15]\tvalidation-rmse:5.47065\n",
      "[16]\tvalidation-rmse:5.45372\n",
      "[17]\tvalidation-rmse:5.43980\n",
      "[18]\tvalidation-rmse:5.42974\n",
      "[19]\tvalidation-rmse:5.42061\n",
      "[20]\tvalidation-rmse:5.41280\n",
      "[21]\tvalidation-rmse:5.40667\n",
      "[22]\tvalidation-rmse:5.40317\n",
      "[23]\tvalidation-rmse:5.39994\n",
      "[24]\tvalidation-rmse:5.39552\n",
      "[25]\tvalidation-rmse:5.39185\n",
      "[26]\tvalidation-rmse:5.38799\n",
      "[27]\tvalidation-rmse:5.38586\n",
      "[28]\tvalidation-rmse:5.38381\n",
      "[29]\tvalidation-rmse:5.38123\n",
      "[30]\tvalidation-rmse:5.38016\n",
      "[31]\tvalidation-rmse:5.37826\n",
      "[32]\tvalidation-rmse:5.37796\n",
      "[33]\tvalidation-rmse:5.37719\n",
      "[34]\tvalidation-rmse:5.37671\n",
      "[35]\tvalidation-rmse:5.37669\n",
      "[36]\tvalidation-rmse:5.37584\n",
      "[37]\tvalidation-rmse:5.37550\n",
      "[38]\tvalidation-rmse:5.37456\n",
      "[39]\tvalidation-rmse:5.37468\n",
      "[40]\tvalidation-rmse:5.37445\n",
      "[41]\tvalidation-rmse:5.37417\n",
      "[42]\tvalidation-rmse:5.37370\n",
      "[43]\tvalidation-rmse:5.37334\n",
      "[44]\tvalidation-rmse:5.37327\n",
      "[45]\tvalidation-rmse:5.37253\n",
      "[46]\tvalidation-rmse:5.37273\n",
      "[47]\tvalidation-rmse:5.37206\n",
      "[48]\tvalidation-rmse:5.37189\n",
      "[49]\tvalidation-rmse:5.37148\n",
      "[50]\tvalidation-rmse:5.37134\n",
      "[51]\tvalidation-rmse:5.37095\n",
      "[52]\tvalidation-rmse:5.37110\n",
      "[53]\tvalidation-rmse:5.37089\n",
      "[54]\tvalidation-rmse:5.37045\n",
      "[55]\tvalidation-rmse:5.37006\n",
      "[56]\tvalidation-rmse:5.37002\n",
      "[57]\tvalidation-rmse:5.36971\n",
      "[58]\tvalidation-rmse:5.36942\n",
      "[59]\tvalidation-rmse:5.36984\n",
      "[60]\tvalidation-rmse:5.36909\n",
      "[61]\tvalidation-rmse:5.36934\n",
      "[62]\tvalidation-rmse:5.36943\n",
      "[63]\tvalidation-rmse:5.36909\n",
      "[64]\tvalidation-rmse:5.36913\n",
      "[65]\tvalidation-rmse:5.36927\n",
      "[66]\tvalidation-rmse:5.36900\n",
      "[67]\tvalidation-rmse:5.36854\n",
      "[68]\tvalidation-rmse:5.36814\n",
      "[69]\tvalidation-rmse:5.36814\n",
      "[70]\tvalidation-rmse:5.36826\n",
      "[71]\tvalidation-rmse:5.36814\n",
      "[72]\tvalidation-rmse:5.36810\n",
      "[73]\tvalidation-rmse:5.36791\n",
      "[74]\tvalidation-rmse:5.36763\n",
      "[75]\tvalidation-rmse:5.36787\n",
      "[76]\tvalidation-rmse:5.36764\n",
      "[77]\tvalidation-rmse:5.36750\n",
      "[78]\tvalidation-rmse:5.36727\n",
      "[79]\tvalidation-rmse:5.36669\n",
      "[80]\tvalidation-rmse:5.36597\n",
      "[81]\tvalidation-rmse:5.36603\n",
      "[82]\tvalidation-rmse:5.36598\n",
      "[83]\tvalidation-rmse:5.36577\n",
      "[84]\tvalidation-rmse:5.36566\n",
      "[85]\tvalidation-rmse:5.36540\n",
      "[86]\tvalidation-rmse:5.36540\n",
      "[87]\tvalidation-rmse:5.36514\n",
      "[88]\tvalidation-rmse:5.36519\n",
      "[89]\tvalidation-rmse:5.36463\n",
      "[90]\tvalidation-rmse:5.36495\n",
      "[91]\tvalidation-rmse:5.36471\n",
      "[92]\tvalidation-rmse:5.36457\n",
      "[93]\tvalidation-rmse:5.36465\n",
      "[94]\tvalidation-rmse:5.36404\n",
      "[95]\tvalidation-rmse:5.36396\n",
      "[96]\tvalidation-rmse:5.36359\n",
      "[97]\tvalidation-rmse:5.36369\n",
      "[98]\tvalidation-rmse:5.36354\n",
      "[99]\tvalidation-rmse:5.36390\n"
     ]
    },
    {
     "name": "stderr",
     "output_type": "stream",
     "text": [
      "/home/sofi/Documents/vscode/nyc-taxi-predictions/.venv/lib/python3.11/site-packages/mlflow/xgboost/__init__.py:169: UserWarning: [21:30:47] WARNING: /workspace/src/c_api/c_api.cc:1575: Saving model in the UBJSON format as default.  You can use a file extension: `json` or `ubj` to choose between formats.\n",
      "  xgb_model.save_model(model_data_path)\n",
      "2025/10/23 21:30:50 WARNING mlflow.utils.environment: Failed to resolve installed pip version. ``pip`` will be added to conda.yaml environment spec without a version specifier.\n",
      "/home/sofi/Documents/vscode/nyc-taxi-predictions/.venv/lib/python3.11/site-packages/mlflow/xgboost/__init__.py:321: UserWarning: [21:30:50] WARNING: /workspace/src/c_api/c_api.cc:1511: Unknown file format: `xgb`. Using UBJSON (`ubj`) as a guess.\n",
      "  model.load_model(xgb_model_path)\n",
      "[I 2025-10-23 21:30:56,025] Trial 7 finished with value: 5.363897800445557 and parameters: {'max_depth': 82, 'learning_rate': 0.12416316985362412, 'reg_alpha': 0.009958672056108932, 'reg_lambda': 0.0758623422350637, 'min_child_weight': 2.1395809133199974}. Best is trial 4 with value: 5.354063510894775.\n"
     ]
    },
    {
     "name": "stdout",
     "output_type": "stream",
     "text": [
      "🏃 View run shivering-hawk-251 at: https://dbc-03802296-e2f6.cloud.databricks.com/ml/experiments/3962753005528092/runs/7d3b0bba11f94614a30aeb4ddfd91567\n",
      "🧪 View experiment at: https://dbc-03802296-e2f6.cloud.databricks.com/ml/experiments/3962753005528092\n",
      "[0]\tvalidation-rmse:7.94171\n",
      "[1]\tvalidation-rmse:7.13023\n",
      "[2]\tvalidation-rmse:6.57708\n",
      "[3]\tvalidation-rmse:6.21578\n",
      "[4]\tvalidation-rmse:5.96666\n",
      "[5]\tvalidation-rmse:5.81041\n",
      "[6]\tvalidation-rmse:5.70225\n",
      "[7]\tvalidation-rmse:5.63239\n",
      "[8]\tvalidation-rmse:5.58031\n",
      "[9]\tvalidation-rmse:5.54201\n",
      "[10]\tvalidation-rmse:5.51907\n",
      "[11]\tvalidation-rmse:5.49963\n",
      "[12]\tvalidation-rmse:5.48439\n",
      "[13]\tvalidation-rmse:5.47310\n",
      "[14]\tvalidation-rmse:5.46843\n",
      "[15]\tvalidation-rmse:5.46460\n",
      "[16]\tvalidation-rmse:5.46138\n",
      "[17]\tvalidation-rmse:5.45751\n",
      "[18]\tvalidation-rmse:5.45421\n",
      "[19]\tvalidation-rmse:5.45231\n",
      "[20]\tvalidation-rmse:5.45025\n",
      "[21]\tvalidation-rmse:5.44851\n",
      "[22]\tvalidation-rmse:5.44642\n",
      "[23]\tvalidation-rmse:5.44442\n",
      "[24]\tvalidation-rmse:5.44292\n",
      "[25]\tvalidation-rmse:5.44204\n",
      "[26]\tvalidation-rmse:5.44006\n",
      "[27]\tvalidation-rmse:5.43904\n",
      "[28]\tvalidation-rmse:5.43846\n",
      "[29]\tvalidation-rmse:5.43574\n",
      "[30]\tvalidation-rmse:5.43469\n",
      "[31]\tvalidation-rmse:5.42928\n",
      "[32]\tvalidation-rmse:5.42777\n",
      "[33]\tvalidation-rmse:5.42685\n",
      "[34]\tvalidation-rmse:5.42622\n",
      "[35]\tvalidation-rmse:5.42597\n",
      "[36]\tvalidation-rmse:5.42465\n",
      "[37]\tvalidation-rmse:5.42353\n",
      "[38]\tvalidation-rmse:5.42396\n",
      "[39]\tvalidation-rmse:5.42223\n",
      "[40]\tvalidation-rmse:5.42107\n",
      "[41]\tvalidation-rmse:5.41939\n",
      "[42]\tvalidation-rmse:5.41714\n",
      "[43]\tvalidation-rmse:5.41623\n",
      "[44]\tvalidation-rmse:5.41532\n",
      "[45]\tvalidation-rmse:5.41456\n",
      "[46]\tvalidation-rmse:5.41383\n",
      "[47]\tvalidation-rmse:5.41322\n",
      "[48]\tvalidation-rmse:5.41192\n",
      "[49]\tvalidation-rmse:5.41126\n",
      "[50]\tvalidation-rmse:5.40834\n",
      "[51]\tvalidation-rmse:5.40799\n",
      "[52]\tvalidation-rmse:5.40697\n",
      "[53]\tvalidation-rmse:5.40335\n",
      "[54]\tvalidation-rmse:5.40206\n",
      "[55]\tvalidation-rmse:5.40073\n",
      "[56]\tvalidation-rmse:5.39996\n",
      "[57]\tvalidation-rmse:5.39975\n",
      "[58]\tvalidation-rmse:5.39803\n",
      "[59]\tvalidation-rmse:5.39728\n",
      "[60]\tvalidation-rmse:5.39749\n",
      "[61]\tvalidation-rmse:5.39751\n",
      "[62]\tvalidation-rmse:5.39668\n",
      "[63]\tvalidation-rmse:5.39593\n",
      "[64]\tvalidation-rmse:5.39476\n",
      "[65]\tvalidation-rmse:5.39428\n",
      "[66]\tvalidation-rmse:5.39425\n",
      "[67]\tvalidation-rmse:5.39262\n",
      "[68]\tvalidation-rmse:5.39287\n",
      "[69]\tvalidation-rmse:5.39221\n",
      "[70]\tvalidation-rmse:5.39201\n",
      "[71]\tvalidation-rmse:5.39101\n",
      "[72]\tvalidation-rmse:5.39078\n",
      "[73]\tvalidation-rmse:5.39002\n",
      "[74]\tvalidation-rmse:5.38956\n",
      "[75]\tvalidation-rmse:5.38836\n",
      "[76]\tvalidation-rmse:5.38824\n",
      "[77]\tvalidation-rmse:5.38828\n",
      "[78]\tvalidation-rmse:5.38764\n",
      "[79]\tvalidation-rmse:5.38568\n",
      "[80]\tvalidation-rmse:5.38519\n",
      "[81]\tvalidation-rmse:5.38513\n",
      "[82]\tvalidation-rmse:5.38415\n",
      "[83]\tvalidation-rmse:5.38355\n",
      "[84]\tvalidation-rmse:5.38316\n",
      "[85]\tvalidation-rmse:5.38286\n",
      "[86]\tvalidation-rmse:5.38383\n",
      "[87]\tvalidation-rmse:5.38305\n",
      "[88]\tvalidation-rmse:5.38245\n",
      "[89]\tvalidation-rmse:5.37894\n",
      "[90]\tvalidation-rmse:5.37781\n",
      "[91]\tvalidation-rmse:5.37727\n",
      "[92]\tvalidation-rmse:5.37648\n",
      "[93]\tvalidation-rmse:5.37622\n",
      "[94]\tvalidation-rmse:5.37542\n",
      "[95]\tvalidation-rmse:5.37440\n",
      "[96]\tvalidation-rmse:5.37339\n",
      "[97]\tvalidation-rmse:5.37328\n",
      "[98]\tvalidation-rmse:5.37328\n",
      "[99]\tvalidation-rmse:5.37317\n"
     ]
    },
    {
     "name": "stderr",
     "output_type": "stream",
     "text": [
      "/home/sofi/Documents/vscode/nyc-taxi-predictions/.venv/lib/python3.11/site-packages/mlflow/xgboost/__init__.py:169: UserWarning: [21:31:08] WARNING: /workspace/src/c_api/c_api.cc:1575: Saving model in the UBJSON format as default.  You can use a file extension: `json` or `ubj` to choose between formats.\n",
      "  xgb_model.save_model(model_data_path)\n",
      "2025/10/23 21:31:10 WARNING mlflow.utils.environment: Failed to resolve installed pip version. ``pip`` will be added to conda.yaml environment spec without a version specifier.\n",
      "/home/sofi/Documents/vscode/nyc-taxi-predictions/.venv/lib/python3.11/site-packages/mlflow/xgboost/__init__.py:321: UserWarning: [21:31:10] WARNING: /workspace/src/c_api/c_api.cc:1511: Unknown file format: `xgb`. Using UBJSON (`ubj`) as a guess.\n",
      "  model.load_model(xgb_model_path)\n",
      "[I 2025-10-23 21:31:13,035] Trial 8 finished with value: 5.373172760009766 and parameters: {'max_depth': 15, 'learning_rate': 0.21992487468175848, 'reg_alpha': 0.007731550026907306, 'reg_lambda': 0.23377457337376373, 'min_child_weight': 1.0357439143907545}. Best is trial 4 with value: 5.354063510894775.\n"
     ]
    },
    {
     "name": "stdout",
     "output_type": "stream",
     "text": [
      "🏃 View run bemused-cod-928 at: https://dbc-03802296-e2f6.cloud.databricks.com/ml/experiments/3962753005528092/runs/484928a826214f3da282445c7d62198f\n",
      "🧪 View experiment at: https://dbc-03802296-e2f6.cloud.databricks.com/ml/experiments/3962753005528092\n",
      "[0]\tvalidation-rmse:8.40239\n",
      "[1]\tvalidation-rmse:7.82514\n",
      "[2]\tvalidation-rmse:7.34145\n",
      "[3]\tvalidation-rmse:6.96367\n",
      "[4]\tvalidation-rmse:6.64958\n",
      "[5]\tvalidation-rmse:6.40909\n",
      "[6]\tvalidation-rmse:6.21376\n",
      "[7]\tvalidation-rmse:6.06256\n",
      "[8]\tvalidation-rmse:5.93165\n",
      "[9]\tvalidation-rmse:5.83895\n",
      "[10]\tvalidation-rmse:5.76462\n",
      "[11]\tvalidation-rmse:5.70713\n",
      "[12]\tvalidation-rmse:5.66507\n",
      "[13]\tvalidation-rmse:5.61864\n",
      "[14]\tvalidation-rmse:5.59231\n",
      "[15]\tvalidation-rmse:5.56479\n",
      "[16]\tvalidation-rmse:5.54825\n",
      "[17]\tvalidation-rmse:5.53445\n",
      "[18]\tvalidation-rmse:5.52012\n",
      "[19]\tvalidation-rmse:5.50930\n",
      "[20]\tvalidation-rmse:5.50311\n",
      "[21]\tvalidation-rmse:5.49321\n",
      "[22]\tvalidation-rmse:5.49187\n",
      "[23]\tvalidation-rmse:5.48592\n",
      "[24]\tvalidation-rmse:5.48312\n",
      "[25]\tvalidation-rmse:5.47968\n",
      "[26]\tvalidation-rmse:5.47629\n",
      "[27]\tvalidation-rmse:5.47455\n",
      "[28]\tvalidation-rmse:5.47410\n",
      "[29]\tvalidation-rmse:5.47307\n",
      "[30]\tvalidation-rmse:5.47212\n",
      "[31]\tvalidation-rmse:5.47141\n",
      "[32]\tvalidation-rmse:5.46924\n",
      "[33]\tvalidation-rmse:5.46708\n",
      "[34]\tvalidation-rmse:5.46686\n",
      "[35]\tvalidation-rmse:5.46490\n",
      "[36]\tvalidation-rmse:5.46401\n",
      "[37]\tvalidation-rmse:5.46301\n",
      "[38]\tvalidation-rmse:5.46309\n",
      "[39]\tvalidation-rmse:5.46284\n",
      "[40]\tvalidation-rmse:5.46070\n",
      "[41]\tvalidation-rmse:5.46043\n",
      "[42]\tvalidation-rmse:5.46080\n",
      "[43]\tvalidation-rmse:5.45994\n",
      "[44]\tvalidation-rmse:5.45927\n",
      "[45]\tvalidation-rmse:5.45906\n",
      "[46]\tvalidation-rmse:5.45779\n",
      "[47]\tvalidation-rmse:5.45761\n",
      "[48]\tvalidation-rmse:5.45666\n",
      "[49]\tvalidation-rmse:5.45682\n",
      "[50]\tvalidation-rmse:5.45744\n",
      "[51]\tvalidation-rmse:5.45628\n",
      "[52]\tvalidation-rmse:5.45610\n",
      "[53]\tvalidation-rmse:5.45558\n",
      "[54]\tvalidation-rmse:5.45642\n",
      "[55]\tvalidation-rmse:5.45651\n",
      "[56]\tvalidation-rmse:5.45592\n",
      "[57]\tvalidation-rmse:5.45462\n",
      "[58]\tvalidation-rmse:5.45467\n",
      "[59]\tvalidation-rmse:5.45471\n",
      "[60]\tvalidation-rmse:5.45480\n",
      "[61]\tvalidation-rmse:5.45436\n",
      "[62]\tvalidation-rmse:5.45445\n",
      "[63]\tvalidation-rmse:5.45471\n",
      "[64]\tvalidation-rmse:5.45434\n",
      "[65]\tvalidation-rmse:5.45460\n",
      "[66]\tvalidation-rmse:5.45344\n",
      "[67]\tvalidation-rmse:5.45389\n",
      "[68]\tvalidation-rmse:5.45366\n",
      "[69]\tvalidation-rmse:5.45401\n",
      "[70]\tvalidation-rmse:5.45384\n",
      "[71]\tvalidation-rmse:5.45346\n",
      "[72]\tvalidation-rmse:5.45298\n",
      "[73]\tvalidation-rmse:5.45300\n",
      "[74]\tvalidation-rmse:5.45308\n",
      "[75]\tvalidation-rmse:5.45334\n",
      "[76]\tvalidation-rmse:5.45350\n",
      "[77]\tvalidation-rmse:5.45372\n",
      "[78]\tvalidation-rmse:5.45399\n",
      "[79]\tvalidation-rmse:5.45389\n",
      "[80]\tvalidation-rmse:5.45424\n",
      "[81]\tvalidation-rmse:5.45379\n",
      "[82]\tvalidation-rmse:5.45373\n"
     ]
    },
    {
     "name": "stderr",
     "output_type": "stream",
     "text": [
      "/home/sofi/Documents/vscode/nyc-taxi-predictions/.venv/lib/python3.11/site-packages/mlflow/xgboost/__init__.py:169: UserWarning: [21:31:46] WARNING: /workspace/src/c_api/c_api.cc:1575: Saving model in the UBJSON format as default.  You can use a file extension: `json` or `ubj` to choose between formats.\n",
      "  xgb_model.save_model(model_data_path)\n",
      "2025/10/23 21:31:48 WARNING mlflow.utils.environment: Failed to resolve installed pip version. ``pip`` will be added to conda.yaml environment spec without a version specifier.\n",
      "/home/sofi/Documents/vscode/nyc-taxi-predictions/.venv/lib/python3.11/site-packages/mlflow/xgboost/__init__.py:321: UserWarning: [21:31:48] WARNING: /workspace/src/c_api/c_api.cc:1511: Unknown file format: `xgb`. Using UBJSON (`ubj`) as a guess.\n",
      "  model.load_model(xgb_model_path)\n",
      "[I 2025-10-23 21:31:54,677] Trial 9 finished with value: 5.453731536865234 and parameters: {'max_depth': 68, 'learning_rate': 0.1268351874747755, 'reg_alpha': 0.05394836382863035, 'reg_lambda': 0.03814164293595655, 'min_child_weight': 0.7706028272535065}. Best is trial 4 with value: 5.354063510894775.\n"
     ]
    },
    {
     "name": "stdout",
     "output_type": "stream",
     "text": [
      "🏃 View run overjoyed-cod-946 at: https://dbc-03802296-e2f6.cloud.databricks.com/ml/experiments/3962753005528092/runs/6288ab5e6d484f99993bad9b1b4e1693\n",
      "🧪 View experiment at: https://dbc-03802296-e2f6.cloud.databricks.com/ml/experiments/3962753005528092\n",
      "[0]\tvalidation-rmse:8.67773\n",
      "[1]\tvalidation-rmse:8.28559\n",
      "[2]\tvalidation-rmse:7.93525\n",
      "[3]\tvalidation-rmse:7.62306\n",
      "[4]\tvalidation-rmse:7.34544\n",
      "[5]\tvalidation-rmse:7.09909\n",
      "[6]\tvalidation-rmse:6.88057\n",
      "[7]\tvalidation-rmse:6.68879\n",
      "[8]\tvalidation-rmse:6.52039\n",
      "[9]\tvalidation-rmse:6.37274\n",
      "[10]\tvalidation-rmse:6.24296\n",
      "[11]\tvalidation-rmse:6.12967\n",
      "[12]\tvalidation-rmse:6.03055\n",
      "[13]\tvalidation-rmse:5.94407\n",
      "[14]\tvalidation-rmse:5.86815\n",
      "[15]\tvalidation-rmse:5.80252\n",
      "[16]\tvalidation-rmse:5.74580\n",
      "[17]\tvalidation-rmse:5.69646\n",
      "[18]\tvalidation-rmse:5.65399\n",
      "[19]\tvalidation-rmse:5.61702\n",
      "[20]\tvalidation-rmse:5.58592\n",
      "[21]\tvalidation-rmse:5.55833\n",
      "[22]\tvalidation-rmse:5.53410\n",
      "[23]\tvalidation-rmse:5.51314\n",
      "[24]\tvalidation-rmse:5.49465\n",
      "[25]\tvalidation-rmse:5.47910\n",
      "[26]\tvalidation-rmse:5.46558\n",
      "[27]\tvalidation-rmse:5.45397\n",
      "[28]\tvalidation-rmse:5.44378\n",
      "[29]\tvalidation-rmse:5.43477\n",
      "[30]\tvalidation-rmse:5.42699\n",
      "[31]\tvalidation-rmse:5.42010\n",
      "[32]\tvalidation-rmse:5.41416\n",
      "[33]\tvalidation-rmse:5.40845\n",
      "[34]\tvalidation-rmse:5.40351\n",
      "[35]\tvalidation-rmse:5.39833\n",
      "[36]\tvalidation-rmse:5.39447\n",
      "[37]\tvalidation-rmse:5.39138\n",
      "[38]\tvalidation-rmse:5.38833\n",
      "[39]\tvalidation-rmse:5.38540\n",
      "[40]\tvalidation-rmse:5.38236\n",
      "[41]\tvalidation-rmse:5.37933\n",
      "[42]\tvalidation-rmse:5.37707\n",
      "[43]\tvalidation-rmse:5.37476\n",
      "[44]\tvalidation-rmse:5.37276\n",
      "[45]\tvalidation-rmse:5.37106\n",
      "[46]\tvalidation-rmse:5.36946\n",
      "[47]\tvalidation-rmse:5.36858\n",
      "[48]\tvalidation-rmse:5.36772\n",
      "[49]\tvalidation-rmse:5.36648\n",
      "[50]\tvalidation-rmse:5.36584\n",
      "[51]\tvalidation-rmse:5.36528\n",
      "[52]\tvalidation-rmse:5.36479\n",
      "[53]\tvalidation-rmse:5.36403\n",
      "[54]\tvalidation-rmse:5.36384\n",
      "[55]\tvalidation-rmse:5.36374\n",
      "[56]\tvalidation-rmse:5.36355\n",
      "[57]\tvalidation-rmse:5.36317\n",
      "[58]\tvalidation-rmse:5.36258\n",
      "[59]\tvalidation-rmse:5.36226\n",
      "[60]\tvalidation-rmse:5.36223\n",
      "[61]\tvalidation-rmse:5.36165\n",
      "[62]\tvalidation-rmse:5.36129\n",
      "[63]\tvalidation-rmse:5.36096\n",
      "[64]\tvalidation-rmse:5.36021\n",
      "[65]\tvalidation-rmse:5.36013\n",
      "[66]\tvalidation-rmse:5.35981\n",
      "[67]\tvalidation-rmse:5.35979\n",
      "[68]\tvalidation-rmse:5.35939\n",
      "[69]\tvalidation-rmse:5.35911\n",
      "[70]\tvalidation-rmse:5.35903\n",
      "[71]\tvalidation-rmse:5.35870\n",
      "[72]\tvalidation-rmse:5.35871\n",
      "[73]\tvalidation-rmse:5.35853\n",
      "[74]\tvalidation-rmse:5.35761\n",
      "[75]\tvalidation-rmse:5.35751\n",
      "[76]\tvalidation-rmse:5.35740\n",
      "[77]\tvalidation-rmse:5.35732\n",
      "[78]\tvalidation-rmse:5.35730\n",
      "[79]\tvalidation-rmse:5.35664\n",
      "[80]\tvalidation-rmse:5.35673\n",
      "[81]\tvalidation-rmse:5.35655\n",
      "[82]\tvalidation-rmse:5.35612\n",
      "[83]\tvalidation-rmse:5.35614\n",
      "[84]\tvalidation-rmse:5.35597\n",
      "[85]\tvalidation-rmse:5.35594\n",
      "[86]\tvalidation-rmse:5.35576\n",
      "[87]\tvalidation-rmse:5.35585\n",
      "[88]\tvalidation-rmse:5.35547\n",
      "[89]\tvalidation-rmse:5.35544\n",
      "[90]\tvalidation-rmse:5.35511\n",
      "[91]\tvalidation-rmse:5.35492\n",
      "[92]\tvalidation-rmse:5.35454\n",
      "[93]\tvalidation-rmse:5.35449\n",
      "[94]\tvalidation-rmse:5.35453\n",
      "[95]\tvalidation-rmse:5.35434\n",
      "[96]\tvalidation-rmse:5.35422\n",
      "[97]\tvalidation-rmse:5.35396\n",
      "[98]\tvalidation-rmse:5.35399\n",
      "[99]\tvalidation-rmse:5.35406\n"
     ]
    },
    {
     "name": "stderr",
     "output_type": "stream",
     "text": [
      "/home/sofi/Documents/vscode/nyc-taxi-predictions/.venv/lib/python3.11/site-packages/mlflow/xgboost/__init__.py:169: UserWarning: [21:32:25] WARNING: /workspace/src/c_api/c_api.cc:1575: Saving model in the UBJSON format as default.  You can use a file extension: `json` or `ubj` to choose between formats.\n",
      "  xgb_model.save_model(model_data_path)\n",
      "2025/10/23 21:32:29 WARNING mlflow.utils.environment: Failed to resolve installed pip version. ``pip`` will be added to conda.yaml environment spec without a version specifier.\n",
      "/home/sofi/Documents/vscode/nyc-taxi-predictions/.venv/lib/python3.11/site-packages/mlflow/xgboost/__init__.py:321: UserWarning: [21:32:30] WARNING: /workspace/src/c_api/c_api.cc:1511: Unknown file format: `xgb`. Using UBJSON (`ubj`) as a guess.\n",
      "  model.load_model(xgb_model_path)\n"
     ]
    },
    {
     "name": "stdout",
     "output_type": "stream",
     "text": [
      "🏃 View run XGBoost Hyperparameter Optimization (Optuna) at: https://dbc-03802296-e2f6.cloud.databricks.com/ml/experiments/3962753005528092/runs/f14976ba44d143aba188baa05b50fec9\n",
      "🧪 View experiment at: https://dbc-03802296-e2f6.cloud.databricks.com/ml/experiments/3962753005528092\n"
     ]
    }
   ],
   "source": [
    "mlflow.xgboost.autolog(log_models=False)\n",
    "\n",
    "# ------------------------------------------------------------\n",
    "# Crear el estudio de Optuna\n",
    "#    - Usamos TPE (Tree-structured Parzen Estimator) como sampler.\n",
    "#    - direction=\"minimize\" porque queremos minimizar el RMSE.\n",
    "# ------------------------------------------------------------\n",
    "sampler = TPESampler(seed=42)\n",
    "study = optuna.create_study(direction=\"minimize\", sampler=sampler)\n",
    "\n",
    "# ------------------------------------------------------------\n",
    "# Ejecutar la optimización (n_trials = número de intentos)\n",
    "#    - Cada trial ejecuta la función objetivo con un set distinto de hiperparámetros.\n",
    "#    - Abrimos un run \"padre\" para agrupar toda la búsqueda.\n",
    "# ------------------------------------------------------------\n",
    "with mlflow.start_run(run_name=\"XGBoost Hyperparameter Optimization (Optuna)\", nested=True):\n",
    "    study.optimize(objective, n_trials=10)\n",
    "\n",
    "    # --------------------------------------------------------\n",
    "    # Recuperar y registrar los mejores hiperparámetros\n",
    "    # --------------------------------------------------------\n",
    "    best_params = study.best_params\n",
    "    # Asegurar tipos/campos fijos (por claridad y consistencia)\n",
    "    best_params[\"max_depth\"] = int(best_params[\"max_depth\"])\n",
    "    best_params[\"seed\"] = 42\n",
    "    best_params[\"objective\"] = \"reg:squarederror\"\n",
    "\n",
    "    mlflow.log_params(best_params)\n",
    "\n",
    "    # Etiquetas del run \"padre\" (metadatos del experimento)\n",
    "    mlflow.set_tags({\n",
    "        \"project\": \"NYC Taxi Time Prediction Project\",\n",
    "        \"optimizer_engine\": \"optuna\",\n",
    "        \"model_family\": \"xgboost\",\n",
    "        \"feature_set_version\": 1,\n",
    "    })\n",
    "\n",
    "    # --------------------------------------------------------\n",
    "    # 7) Entrenar un modelo FINAL con los mejores hiperparámetros\n",
    "    #    (normalmente se haría sobre train+val o con CV; aquí mantenemos el patrón original)\n",
    "    # --------------------------------------------------------\n",
    "    booster = xgb.train(\n",
    "        params=best_params,\n",
    "        dtrain=train,\n",
    "        num_boost_round=100,\n",
    "        evals=[(valid, \"validation\")],\n",
    "        early_stopping_rounds=10,\n",
    "    )\n",
    "\n",
    "    # Evaluar y registrar la métrica final en validación\n",
    "    y_pred = booster.predict(valid)\n",
    "    rmse = root_mean_squared_error(y_val, y_pred)\n",
    "    mlflow.log_metric(\"rmse\", rmse)\n",
    "\n",
    "    # --------------------------------------------------------\n",
    "    # 8) Guardar artefactos adicionales (p. ej. el preprocesador)\n",
    "    # --------------------------------------------------------\n",
    "    pathlib.Path(\"preprocessor\").mkdir(exist_ok=True)\n",
    "    with open(\"preprocessor/preprocessor.b\", \"wb\") as f_out:\n",
    "        pickle.dump(dv, f_out)\n",
    "\n",
    "    mlflow.log_artifact(\"preprocessor/preprocessor.b\", artifact_path=\"preprocessor\")\n",
    "\n",
    "    # La \"signature\" describe la estructura esperada de entrada y salida del modelo:\n",
    "    # incluye los nombres, tipos y forma (shape) de las variables de entrada y el tipo de salida.\n",
    "    # MLflow la usa para validar datos en inferencia y documentar el modelo en el Model Registry.\n",
    "    # Si X_val es la matriz dispersa (scipy.sparse) salida de DictVectorizer:\n",
    "    feature_names = dv.get_feature_names_out()\n",
    "    input_example = pd.DataFrame(X_val[:5].toarray(), columns=feature_names)\n",
    "\n",
    "    # Para que las longitudes coincidan, usa el mismo slice en y_pred\n",
    "    signature = infer_signature(input_example, y_val[:5])\n",
    "\n",
    "    # Guardar el modelo del trial como artefacto en MLflow.\n",
    "    mlflow.xgboost.log_model(\n",
    "        booster,\n",
    "        name=\"model\",\n",
    "        input_example=input_example,\n",
    "        signature=signature\n",
    "    )"
   ]
  },
  {
   "cell_type": "markdown",
   "id": "61b7818f",
   "metadata": {},
   "source": [
    "# Random Forest Classifier"
   ]
  },
  {
   "cell_type": "code",
   "execution_count": 10,
   "id": "e7882aa2",
   "metadata": {},
   "outputs": [
    {
     "name": "stderr",
     "output_type": "stream",
     "text": [
      "[I 2025-10-28 09:16:17,802] A new study created in memory with name: no-name-fcf3729c-7cb5-4e44-9a52-d58135e1664e\n",
      "2025/10/28 09:16:32 WARNING mlflow.models.model: `artifact_path` is deprecated. Please use `name` instead.\n",
      "2025/10/28 09:16:41 WARNING mlflow.utils.environment: Failed to resolve installed pip version. ``pip`` will be added to conda.yaml environment spec without a version specifier.\n"
     ]
    },
    {
     "data": {
      "application/vnd.jupyter.widget-view+json": {
       "model_id": "bedb2a71b43e4537a9e731833ca66f50",
       "version_major": 2,
       "version_minor": 0
      },
      "text/plain": [
       "Downloading artifacts:   0%|          | 0/7 [00:00<?, ?it/s]"
      ]
     },
     "metadata": {},
     "output_type": "display_data"
    },
    {
     "name": "stderr",
     "output_type": "stream",
     "text": [
      "2025/10/28 09:16:41 INFO mlflow.models.model: Found the following environment variables used during model inference: [DATABRICKS_HOST, DATABRICKS_TOKEN]. Please check if you need to set them when deploying the model. To disable this message, set environment variable `MLFLOW_RECORD_ENV_VARS_IN_MODEL_LOGGING` to `false`.\n",
      "[I 2025-10-28 09:17:07,624] Trial 0 finished with value: 6.831953886442933 and parameters: {'n_estimators': 144, 'max_depth': 48, 'min_samples_split': 8, 'min_samples_leaf': 3, 'max_features': 'sqrt', 'bootstrap': True}. Best is trial 0 with value: 6.831953886442933.\n"
     ]
    },
    {
     "name": "stdout",
     "output_type": "stream",
     "text": [
      "🏃 View run sassy-steed-883 at: https://dbc-03802296-e2f6.cloud.databricks.com/ml/experiments/3962753005528092/runs/565178b1fa8b4bc2ba9f02ab38fa398a\n",
      "🧪 View experiment at: https://dbc-03802296-e2f6.cloud.databricks.com/ml/experiments/3962753005528092\n"
     ]
    },
    {
     "name": "stderr",
     "output_type": "stream",
     "text": [
      "2025/10/28 09:17:09 WARNING mlflow.models.model: `artifact_path` is deprecated. Please use `name` instead.\n",
      "2025/10/28 09:17:13 WARNING mlflow.utils.environment: Failed to resolve installed pip version. ``pip`` will be added to conda.yaml environment spec without a version specifier.\n"
     ]
    },
    {
     "data": {
      "application/vnd.jupyter.widget-view+json": {
       "model_id": "6df4f6e88bd34c4ab79da96cc13b07cc",
       "version_major": 2,
       "version_minor": 0
      },
      "text/plain": [
       "Downloading artifacts:   0%|          | 0/7 [00:00<?, ?it/s]"
      ]
     },
     "metadata": {},
     "output_type": "display_data"
    },
    {
     "name": "stderr",
     "output_type": "stream",
     "text": [
      "[I 2025-10-28 09:17:15,754] Trial 1 finished with value: 8.715106688964338 and parameters: {'n_estimators': 227, 'max_depth': 4, 'min_samples_split': 10, 'min_samples_leaf': 5, 'max_features': 'sqrt', 'bootstrap': False}. Best is trial 0 with value: 6.831953886442933.\n"
     ]
    },
    {
     "name": "stdout",
     "output_type": "stream",
     "text": [
      "🏃 View run smiling-perch-634 at: https://dbc-03802296-e2f6.cloud.databricks.com/ml/experiments/3962753005528092/runs/b4f52c75f97f4083808ba59a62d21efe\n",
      "🧪 View experiment at: https://dbc-03802296-e2f6.cloud.databricks.com/ml/experiments/3962753005528092\n"
     ]
    },
    {
     "name": "stderr",
     "output_type": "stream",
     "text": [
      "2025/10/28 09:17:44 WARNING mlflow.models.model: `artifact_path` is deprecated. Please use `name` instead.\n",
      "2025/10/28 09:17:48 WARNING mlflow.utils.environment: Failed to resolve installed pip version. ``pip`` will be added to conda.yaml environment spec without a version specifier.\n"
     ]
    },
    {
     "data": {
      "application/vnd.jupyter.widget-view+json": {
       "model_id": "45792d2a6000496d9019f7e1c74840d9",
       "version_major": 2,
       "version_minor": 0
      },
      "text/plain": [
       "Downloading artifacts:   0%|          | 0/7 [00:00<?, ?it/s]"
      ]
     },
     "metadata": {},
     "output_type": "display_data"
    },
    {
     "name": "stderr",
     "output_type": "stream",
     "text": [
      "[I 2025-10-28 09:18:11,219] Trial 2 finished with value: 5.550846624369101 and parameters: {'n_estimators': 158, 'max_depth': 17, 'min_samples_split': 7, 'min_samples_leaf': 1, 'max_features': None, 'bootstrap': True}. Best is trial 2 with value: 5.550846624369101.\n"
     ]
    },
    {
     "name": "stdout",
     "output_type": "stream",
     "text": [
      "🏃 View run bustling-wolf-126 at: https://dbc-03802296-e2f6.cloud.databricks.com/ml/experiments/3962753005528092/runs/ebd4083bb4d243a8bb8ad3b7da90b40c\n",
      "🧪 View experiment at: https://dbc-03802296-e2f6.cloud.databricks.com/ml/experiments/3962753005528092\n"
     ]
    },
    {
     "name": "stderr",
     "output_type": "stream",
     "text": [
      "2025/10/28 09:19:26 WARNING mlflow.models.model: `artifact_path` is deprecated. Please use `name` instead.\n",
      "2025/10/28 09:19:30 WARNING mlflow.utils.environment: Failed to resolve installed pip version. ``pip`` will be added to conda.yaml environment spec without a version specifier.\n"
     ]
    },
    {
     "data": {
      "application/vnd.jupyter.widget-view+json": {
       "model_id": "35cdeb411ca044679cd9203545591a75",
       "version_major": 2,
       "version_minor": 0
      },
      "text/plain": [
       "Downloading artifacts:   0%|          | 0/7 [00:00<?, ?it/s]"
      ]
     },
     "metadata": {},
     "output_type": "display_data"
    },
    {
     "name": "stderr",
     "output_type": "stream",
     "text": [
      "[I 2025-10-28 09:20:41,098] Trial 3 finished with value: 5.481507532979925 and parameters: {'n_estimators': 179, 'max_depth': 31, 'min_samples_split': 2, 'min_samples_leaf': 4, 'max_features': None, 'bootstrap': True}. Best is trial 3 with value: 5.481507532979925.\n"
     ]
    },
    {
     "name": "stdout",
     "output_type": "stream",
     "text": [
      "🏃 View run hilarious-finch-231 at: https://dbc-03802296-e2f6.cloud.databricks.com/ml/experiments/3962753005528092/runs/fd4f243227e745d4b591d06f0f6de8e5\n",
      "🧪 View experiment at: https://dbc-03802296-e2f6.cloud.databricks.com/ml/experiments/3962753005528092\n"
     ]
    },
    {
     "name": "stderr",
     "output_type": "stream",
     "text": [
      "2025/10/28 09:20:42 WARNING mlflow.models.model: `artifact_path` is deprecated. Please use `name` instead.\n",
      "2025/10/28 09:20:46 WARNING mlflow.utils.environment: Failed to resolve installed pip version. ``pip`` will be added to conda.yaml environment spec without a version specifier.\n"
     ]
    },
    {
     "data": {
      "application/vnd.jupyter.widget-view+json": {
       "model_id": "cac092ee7d65426ab0bdafca5f46cb9d",
       "version_major": 2,
       "version_minor": 0
      },
      "text/plain": [
       "Downloading artifacts:   0%|          | 0/7 [00:00<?, ?it/s]"
      ]
     },
     "metadata": {},
     "output_type": "display_data"
    },
    {
     "name": "stderr",
     "output_type": "stream",
     "text": [
      "[I 2025-10-28 09:20:49,434] Trial 4 finished with value: 8.959464902409657 and parameters: {'n_estimators': 126, 'max_depth': 8, 'min_samples_split': 8, 'min_samples_leaf': 3, 'max_features': 'log2', 'bootstrap': True}. Best is trial 3 with value: 5.481507532979925.\n"
     ]
    },
    {
     "name": "stdout",
     "output_type": "stream",
     "text": [
      "🏃 View run trusting-snail-103 at: https://dbc-03802296-e2f6.cloud.databricks.com/ml/experiments/3962753005528092/runs/d1c493bfbf714a49872714bb4bfe50f3\n",
      "🧪 View experiment at: https://dbc-03802296-e2f6.cloud.databricks.com/ml/experiments/3962753005528092\n"
     ]
    },
    {
     "name": "stderr",
     "output_type": "stream",
     "text": [
      "2025/10/28 09:20:54 WARNING mlflow.models.model: `artifact_path` is deprecated. Please use `name` instead.\n",
      "2025/10/28 09:20:58 WARNING mlflow.utils.environment: Failed to resolve installed pip version. ``pip`` will be added to conda.yaml environment spec without a version specifier.\n"
     ]
    },
    {
     "data": {
      "application/vnd.jupyter.widget-view+json": {
       "model_id": "8f9ec3d5f7914260a3e723a6895093a2",
       "version_major": 2,
       "version_minor": 0
      },
      "text/plain": [
       "Downloading artifacts:   0%|          | 0/7 [00:00<?, ?it/s]"
      ]
     },
     "metadata": {},
     "output_type": "display_data"
    },
    {
     "name": "stderr",
     "output_type": "stream",
     "text": [
      "[I 2025-10-28 09:21:04,670] Trial 5 finished with value: 8.87897957794121 and parameters: {'n_estimators': 216, 'max_depth': 18, 'min_samples_split': 6, 'min_samples_leaf': 3, 'max_features': 'log2', 'bootstrap': True}. Best is trial 3 with value: 5.481507532979925.\n"
     ]
    },
    {
     "name": "stdout",
     "output_type": "stream",
     "text": [
      "🏃 View run upset-moose-132 at: https://dbc-03802296-e2f6.cloud.databricks.com/ml/experiments/3962753005528092/runs/9a1d7d5474b0494f937ea62a1a333c25\n",
      "🧪 View experiment at: https://dbc-03802296-e2f6.cloud.databricks.com/ml/experiments/3962753005528092\n"
     ]
    },
    {
     "name": "stderr",
     "output_type": "stream",
     "text": [
      "2025/10/28 09:24:13 WARNING mlflow.models.model: `artifact_path` is deprecated. Please use `name` instead.\n",
      "2025/10/28 09:24:17 WARNING mlflow.utils.environment: Failed to resolve installed pip version. ``pip`` will be added to conda.yaml environment spec without a version specifier.\n"
     ]
    },
    {
     "data": {
      "application/vnd.jupyter.widget-view+json": {
       "model_id": "5ca621f565114244ac1166e37d227975",
       "version_major": 2,
       "version_minor": 0
      },
      "text/plain": [
       "Downloading artifacts:   0%|          | 0/7 [00:00<?, ?it/s]"
      ]
     },
     "metadata": {},
     "output_type": "display_data"
    },
    {
     "name": "stderr",
     "output_type": "stream",
     "text": [
      "[I 2025-10-28 09:27:50,200] Trial 6 finished with value: 5.7830727676521345 and parameters: {'n_estimators': 200, 'max_depth': 47, 'min_samples_split': 2, 'min_samples_leaf': 1, 'max_features': None, 'bootstrap': False}. Best is trial 3 with value: 5.481507532979925.\n"
     ]
    },
    {
     "name": "stdout",
     "output_type": "stream",
     "text": [
      "🏃 View run omniscient-wasp-105 at: https://dbc-03802296-e2f6.cloud.databricks.com/ml/experiments/3962753005528092/runs/97aee3e17443460fabba40f26c4e25fc\n",
      "🧪 View experiment at: https://dbc-03802296-e2f6.cloud.databricks.com/ml/experiments/3962753005528092\n"
     ]
    },
    {
     "name": "stderr",
     "output_type": "stream",
     "text": [
      "2025/10/28 09:28:16 WARNING mlflow.models.model: `artifact_path` is deprecated. Please use `name` instead.\n",
      "2025/10/28 09:28:20 WARNING mlflow.utils.environment: Failed to resolve installed pip version. ``pip`` will be added to conda.yaml environment spec without a version specifier.\n"
     ]
    },
    {
     "data": {
      "application/vnd.jupyter.widget-view+json": {
       "model_id": "d7f7fb072a974a778e4e509f556095e7",
       "version_major": 2,
       "version_minor": 0
      },
      "text/plain": [
       "Downloading artifacts:   0%|          | 0/7 [00:00<?, ?it/s]"
      ]
     },
     "metadata": {},
     "output_type": "display_data"
    },
    {
     "name": "stderr",
     "output_type": "stream",
     "text": [
      "[I 2025-10-28 09:28:41,953] Trial 7 finished with value: 5.552422845045161 and parameters: {'n_estimators': 139, 'max_depth': 17, 'min_samples_split': 6, 'min_samples_leaf': 1, 'max_features': None, 'bootstrap': True}. Best is trial 3 with value: 5.481507532979925.\n"
     ]
    },
    {
     "name": "stdout",
     "output_type": "stream",
     "text": [
      "🏃 View run peaceful-horse-74 at: https://dbc-03802296-e2f6.cloud.databricks.com/ml/experiments/3962753005528092/runs/49535242340b4be8aac9177f66669b8f\n",
      "🧪 View experiment at: https://dbc-03802296-e2f6.cloud.databricks.com/ml/experiments/3962753005528092\n"
     ]
    },
    {
     "name": "stderr",
     "output_type": "stream",
     "text": [
      "2025/10/28 09:28:48 WARNING mlflow.models.model: `artifact_path` is deprecated. Please use `name` instead.\n",
      "2025/10/28 09:28:52 WARNING mlflow.utils.environment: Failed to resolve installed pip version. ``pip`` will be added to conda.yaml environment spec without a version specifier.\n"
     ]
    },
    {
     "data": {
      "application/vnd.jupyter.widget-view+json": {
       "model_id": "a1a8eae2a18d4252b64928b76a05a577",
       "version_major": 2,
       "version_minor": 0
      },
      "text/plain": [
       "Downloading artifacts:   0%|          | 0/7 [00:00<?, ?it/s]"
      ]
     },
     "metadata": {},
     "output_type": "display_data"
    },
    {
     "name": "stderr",
     "output_type": "stream",
     "text": [
      "[I 2025-10-28 09:29:04,114] Trial 8 finished with value: 7.188647654709836 and parameters: {'n_estimators': 51, 'max_depth': 42, 'min_samples_split': 8, 'min_samples_leaf': 4, 'max_features': 'sqrt', 'bootstrap': False}. Best is trial 3 with value: 5.481507532979925.\n"
     ]
    },
    {
     "name": "stdout",
     "output_type": "stream",
     "text": [
      "🏃 View run industrious-cow-365 at: https://dbc-03802296-e2f6.cloud.databricks.com/ml/experiments/3962753005528092/runs/128fdf61e8e44259973b3bbd119da7ec\n",
      "🧪 View experiment at: https://dbc-03802296-e2f6.cloud.databricks.com/ml/experiments/3962753005528092\n"
     ]
    },
    {
     "name": "stderr",
     "output_type": "stream",
     "text": [
      "2025/10/28 09:29:09 WARNING mlflow.models.model: `artifact_path` is deprecated. Please use `name` instead.\n",
      "2025/10/28 09:29:13 WARNING mlflow.utils.environment: Failed to resolve installed pip version. ``pip`` will be added to conda.yaml environment spec without a version specifier.\n"
     ]
    },
    {
     "data": {
      "application/vnd.jupyter.widget-view+json": {
       "model_id": "d832d462c9234264b00fcba2feb6c510",
       "version_major": 2,
       "version_minor": 0
      },
      "text/plain": [
       "Downloading artifacts:   0%|          | 0/7 [00:00<?, ?it/s]"
      ]
     },
     "metadata": {},
     "output_type": "display_data"
    },
    {
     "name": "stderr",
     "output_type": "stream",
     "text": [
      "[I 2025-10-28 09:29:20,789] Trial 9 finished with value: 8.809825871700163 and parameters: {'n_estimators': 206, 'max_depth': 19, 'min_samples_split': 2, 'min_samples_leaf': 2, 'max_features': 'log2', 'bootstrap': True}. Best is trial 3 with value: 5.481507532979925.\n"
     ]
    },
    {
     "name": "stdout",
     "output_type": "stream",
     "text": [
      "🏃 View run orderly-bee-376 at: https://dbc-03802296-e2f6.cloud.databricks.com/ml/experiments/3962753005528092/runs/56074b71569f44d0a97abb5a52d3bbbb\n",
      "🧪 View experiment at: https://dbc-03802296-e2f6.cloud.databricks.com/ml/experiments/3962753005528092\n"
     ]
    },
    {
     "name": "stderr",
     "output_type": "stream",
     "text": [
      "2025/10/28 09:30:38 WARNING mlflow.models.model: `artifact_path` is deprecated. Please use `name` instead.\n",
      "2025/10/28 09:30:42 WARNING mlflow.utils.environment: Failed to resolve installed pip version. ``pip`` will be added to conda.yaml environment spec without a version specifier.\n"
     ]
    },
    {
     "data": {
      "application/vnd.jupyter.widget-view+json": {
       "model_id": "38a1900ad7574ff49ef3851807a43958",
       "version_major": 2,
       "version_minor": 0
      },
      "text/plain": [
       "Downloading artifacts:   0%|          | 0/7 [00:00<?, ?it/s]"
      ]
     },
     "metadata": {},
     "output_type": "display_data"
    },
    {
     "name": "stderr",
     "output_type": "stream",
     "text": [
      "c:\\Users\\pixta\\Documents\\vscode\\nyc-taxi-predictions\\.venv\\Lib\\site-packages\\sklearn\\utils\\validation.py:2742: UserWarning: X has feature names, but RandomForestRegressor was fitted without feature names\n",
      "  warnings.warn(\n"
     ]
    },
    {
     "name": "stdout",
     "output_type": "stream",
     "text": [
      "🏃 View run Random Forest Hyperparameter Optimization (Optuna) at: https://dbc-03802296-e2f6.cloud.databricks.com/ml/experiments/3962753005528092/runs/b19bda000f31485eaad828da61d0cabe\n",
      "🧪 View experiment at: https://dbc-03802296-e2f6.cloud.databricks.com/ml/experiments/3962753005528092\n"
     ]
    }
   ],
   "source": [
    "# Función Objective\n",
    "def objective(trial: optuna.trial.Trial):\n",
    "    params = {\n",
    "        \"n_estimators\": trial.suggest_int(\"n_estimators\", 50, 300),\n",
    "        \"max_depth\": trial.suggest_int(\"max_depth\", 4, 50),\n",
    "        \"min_samples_split\": trial.suggest_int(\"min_samples_split\", 2, 10),\n",
    "        \"min_samples_leaf\": trial.suggest_int(\"min_samples_leaf\", 1, 5),\n",
    "        \"max_features\": trial.suggest_categorical(\"max_features\", [\"sqrt\", \"log2\", None]),\n",
    "        \"bootstrap\": trial.suggest_categorical(\"bootstrap\", [True, False]),\n",
    "        \"random_state\": 42,\n",
    "    }\n",
    "\n",
    "    with mlflow.start_run(nested=True):\n",
    "        mlflow.set_tag(\"model_family\", \"random_forest\")\n",
    "        mlflow.log_params(params)\n",
    "\n",
    "        model = RandomForestRegressor(**params)\n",
    "        model.fit(X_train, y_train)\n",
    "\n",
    "        y_pred = model.predict(X_val)\n",
    "        rmse = root_mean_squared_error(y_val, y_pred)\n",
    "\n",
    "        mlflow.log_metric(\"rmse\", rmse)\n",
    "\n",
    "        signature = infer_signature(X_val, y_pred)\n",
    "        mlflow.sklearn.log_model(model, \"model\", input_example=X_val[:5], signature=signature)\n",
    "\n",
    "    return rmse\n",
    "\n",
    "\n",
    "# Optuna\n",
    "sampler = TPESampler(seed=42)\n",
    "study = optuna.create_study(direction=\"minimize\", sampler=sampler)\n",
    "\n",
    "# ------------------------------------------------------------\n",
    "# Ejecutar optimización\n",
    "# ------------------------------------------------------------\n",
    "with mlflow.start_run(run_name=\"Random Forest Hyperparameter Optimization (Optuna)\", nested=True):\n",
    "    study.optimize(objective, n_trials=10)\n",
    "\n",
    "    best_params = study.best_params\n",
    "    best_params[\"random_state\"] = 42\n",
    "\n",
    "    mlflow.log_params(best_params)\n",
    "    mlflow.set_tags({\n",
    "        \"project\": \"NYC Taxi Time Prediction Project\",\n",
    "        \"optimizer_engine\": \"optuna\",\n",
    "        \"model_family\": \"random_forest\",\n",
    "        \"feature_set_version\": 1,\n",
    "    })\n",
    "\n",
    "    model = RandomForestRegressor(**best_params)\n",
    "    model.fit(X_train, y_train)\n",
    "    y_pred = model.predict(X_val)\n",
    "    rmse = root_mean_squared_error(y_val, y_pred)\n",
    "    mlflow.log_metric(\"rmse\", rmse)\n",
    "\n",
    "    pathlib.Path(\"preprocessor\").mkdir(exist_ok=True)\n",
    "    with open(\"preprocessor/preprocessor.b\", \"wb\") as f_out:\n",
    "        pickle.dump(dv, f_out)\n",
    "    mlflow.log_artifact(\"preprocessor/preprocessor.b\", artifact_path=\"preprocessor\")\n",
    "\n",
    "    feature_names = dv.get_feature_names_out()\n",
    "    input_example = pd.DataFrame(X_val[:5].toarray(), columns=feature_names)\n",
    "    signature = infer_signature(input_example, y_val[:5])\n",
    "\n",
    "    mlflow.sklearn.log_model(model, \"model\", input_example=input_example, signature=signature)\n"
   ]
  },
  {
   "cell_type": "code",
   "execution_count": null,
   "id": "2478c786",
   "metadata": {},
   "outputs": [
    {
     "name": "stdout",
     "output_type": "stream",
     "text": [
      "🏆 Champion Run encontrado:\n",
      "Run ID: 7b53d5f6b81f4bb1841b4ff04bf3757c\n",
      "RMSE: 5.354063510894775\n",
      "Params: {'custom_metric': 'None', 'early_stopping_rounds': '10', 'learning_rate': '0.07565903471570516', 'max_depth': '63', 'maximize': 'None', 'min_child_weight': '2.2802382585441565', 'num_boost_round': '100', 'objective': 'reg:squarederror', 'reg_alpha': '0.021678779375600917', 'reg_lambda': '0.015480241912324163', 'seed': '42', 'verbose_eval': 'True'}\n",
      "\n",
      "🥈 Challenger Encontrado\n",
      "Run ID: f14976ba44d143aba188baa05b50fec9\n",
      "RMSE: 5.354063510894775\n",
      "Params: {'custom_metric': 'None', 'early_stopping_rounds': '10', 'learning_rate': '0.07565903471570516', 'max_depth': '63', 'maximize': 'None', 'min_child_weight': '2.2802382585441565', 'num_boost_round': '100', 'objective': 'reg:squarederror', 'reg_alpha': '0.021678779375600917', 'reg_lambda': '0.015480241912324163', 'seed': '42', 'verbose_eval': 'True'}\n"
     ]
    }
   ],
   "source": [
    "# Encontrando el Champion y Challenger\n",
    "runs = mlflow.search_runs(\n",
    "    experiment_names=[EXPERIMENT_NAME],\n",
    "    order_by=[\"metrics.rmse ASC\"],\n",
    "    output_format=\"list\"\n",
    ")\n",
    "\n",
    "# Obtener el mejor run\n",
    "if len(runs) > 0:\n",
    "    best_run = runs[0]\n",
    "    challenger = runs[1]\n",
    "    print(\"🏆 Champion Run encontrado:\")\n",
    "    print(f\"Run ID: {best_run.info.run_id}\")\n",
    "    print(f\"RMSE: {best_run.data.metrics['rmse']}\")\n",
    "    print(f\"Params: {best_run.data.params}\")\n",
    "    print()\n",
    "    print(\"🥈 Challenger Encontrado\")\n",
    "    print(f\"Run ID: {challenger.info.run_id}\")\n",
    "    print(f\"RMSE: {challenger.data.metrics['rmse']}\")\n",
    "    print(f\"Params: {challenger.data.params}\")\n",
    "else:\n",
    "    print(\"⚠️ No se encontraron runs con métrica RMSE.\")\n"
   ]
  },
  {
   "cell_type": "markdown",
   "id": "a82311ea",
   "metadata": {},
   "source": [
    "# Probando con nueva data"
   ]
  },
  {
   "cell_type": "code",
   "execution_count": null,
   "id": "e22d7311",
   "metadata": {},
   "outputs": [],
   "source": [
    "CHANPION_RUN = '7b53d5f6b81f4bb1841b4ff04bf3757c'\n",
    "CHALLENGER_RUN = 'fd4f243227e745d4b591d06f0f6de8e5' # Diferente al de arriba porque el challenger \"verdadero\" es otro XGBoost, pero queremos probar con Random Forest tambiéns"
   ]
  },
  {
   "cell_type": "code",
   "execution_count": 16,
   "id": "87a77bc6",
   "metadata": {},
   "outputs": [
    {
     "data": {
      "application/vnd.jupyter.widget-view+json": {
       "model_id": "b493f16b04994acf96cdb008ee28e6c1",
       "version_major": 2,
       "version_minor": 0
      },
      "text/plain": [
       "Downloading artifacts:   0%|          | 0/1 [00:00<?, ?it/s]"
      ]
     },
     "metadata": {},
     "output_type": "display_data"
    },
    {
     "data": {
      "application/vnd.jupyter.widget-view+json": {
       "model_id": "a241a33831eb4ad5a97f8940305d484a",
       "version_major": 2,
       "version_minor": 0
      },
      "text/plain": [
       "Downloading artifacts:   0%|          | 0/7 [00:00<?, ?it/s]"
      ]
     },
     "metadata": {},
     "output_type": "display_data"
    },
    {
     "name": "stderr",
     "output_type": "stream",
     "text": [
      "c:\\Users\\pixta\\Documents\\vscode\\nyc-taxi-predictions\\.venv\\Lib\\site-packages\\mlflow\\xgboost\\__init__.py:321: UserWarning: [10:01:18] WARNING: C:\\actions-runner\\_work\\xgboost\\xgboost\\src\\c_api\\c_api.cc:1511: Unknown file format: `xgb`. Using UBJSON (`ubj`) as a guess.\n",
      "  model.load_model(xgb_model_path)\n"
     ]
    },
    {
     "data": {
      "application/vnd.jupyter.widget-view+json": {
       "model_id": "d44c32c6bb05473490e04ea8c37675d6",
       "version_major": 2,
       "version_minor": 0
      },
      "text/plain": [
       "Downloading artifacts:   0%|          | 0/1 [00:00<?, ?it/s]"
      ]
     },
     "metadata": {},
     "output_type": "display_data"
    },
    {
     "data": {
      "application/vnd.jupyter.widget-view+json": {
       "model_id": "09022072421d4e6099971e9223dd6def",
       "version_major": 2,
       "version_minor": 0
      },
      "text/plain": [
       "Downloading artifacts:   0%|          | 0/7 [00:00<?, ?it/s]"
      ]
     },
     "metadata": {},
     "output_type": "display_data"
    }
   ],
   "source": [
    "champ_uri = f\"runs:/{CHANPION_RUN}/model\"\n",
    "chall_uri = f'runs:/{CHALLENGER_RUN}/model'\n",
    "\n",
    "champ_model = mlflow.pyfunc.load_model(champ_uri)\n",
    "chall_model = mlflow.pyfunc.load_model(chall_uri)"
   ]
  },
  {
   "cell_type": "code",
   "execution_count": 17,
   "id": "cedbfa24",
   "metadata": {},
   "outputs": [],
   "source": [
    "df_reval = read_dataframe('../data/green_tripdata_2025-03.parquet')"
   ]
  },
  {
   "cell_type": "code",
   "execution_count": 29,
   "id": "cc3dd99e",
   "metadata": {},
   "outputs": [],
   "source": [
    "df_reval['PU_DO'] = df_reval['PULocationID'] + '_' + df_reval['DOLocationID']\n",
    "categorical = ['PU_DO']\n",
    "numerical = ['trip_distance']\n",
    "\n",
    "with open(\"preprocessor/preprocessor.b\", \"rb\") as f:\n",
    "    dv = pickle.load(f)\n",
    "\n",
    "reval_dicts = df_reval[categorical + numerical].to_dict(orient='records')\n",
    "X_reval = preprocess(df_reval, dv)"
   ]
  },
  {
   "cell_type": "code",
   "execution_count": 19,
   "id": "8c46afac",
   "metadata": {},
   "outputs": [],
   "source": [
    "target = 'duration'\n",
    "y_reval = df_reval[target].values\n",
    "\n",
    "y_train = y_train.astype(int)"
   ]
  },
  {
   "cell_type": "code",
   "execution_count": 20,
   "id": "a3b7ed55",
   "metadata": {},
   "outputs": [],
   "source": [
    "reval_dataset = mlflow.data.from_numpy(X_reval.data, targets=y_reval, name=\"green_tripdata_2025-03\")"
   ]
  },
  {
   "cell_type": "code",
   "execution_count": 26,
   "id": "a6d2585b",
   "metadata": {},
   "outputs": [],
   "source": [
    "reval = xgb.DMatrix(X_reval, label=y_reval)"
   ]
  },
  {
   "cell_type": "code",
   "execution_count": 30,
   "id": "5c725944",
   "metadata": {},
   "outputs": [],
   "source": [
    "y_champ_preds = champ_model.predict(X_reval)\n",
    "y_chall_preds = chall_model.predict(X_reval)"
   ]
  },
  {
   "cell_type": "code",
   "execution_count": null,
   "id": "bd80adf4",
   "metadata": {},
   "outputs": [
    {
     "name": "stdout",
     "output_type": "stream",
     "text": [
      "5.970067173875601 6.111736225419588\n"
     ]
    }
   ],
   "source": [
    "rmse_champ = root_mean_squared_error(y_reval, y_champ_preds)\n",
    "rmse_chall = root_mean_squared_error(y_reval, y_chall_preds)\n",
    "\n",
    "print(rmse_champ, rmse_chall)"
   ]
  },
  {
   "cell_type": "markdown",
   "id": "ee91386c",
   "metadata": {},
   "source": [
    "El modelo challenger sigue siendo el mejor, incluso con la nueva data"
   ]
  }
 ],
 "metadata": {
  "kernelspec": {
   "display_name": "nyc-taxi-predictions",
   "language": "python",
   "name": "python3"
  },
  "language_info": {
   "codemirror_mode": {
    "name": "ipython",
    "version": 3
   },
   "file_extension": ".py",
   "mimetype": "text/x-python",
   "name": "python",
   "nbconvert_exporter": "python",
   "pygments_lexer": "ipython3",
   "version": "3.11.13"
  }
 },
 "nbformat": 4,
 "nbformat_minor": 5
}
